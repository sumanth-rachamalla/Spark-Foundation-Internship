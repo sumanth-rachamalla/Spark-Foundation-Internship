{
  "nbformat": 4,
  "nbformat_minor": 0,
  "metadata": {
    "colab": {
      "provenance": [],
      "toc_visible": true,
      "include_colab_link": true
    },
    "kernelspec": {
      "name": "python3",
      "display_name": "Python 3"
    },
    "language_info": {
      "name": "python"
    }
  },
  "cells": [
    {
      "cell_type": "markdown",
      "metadata": {
        "id": "view-in-github",
        "colab_type": "text"
      },
      "source": [
        "<a href=\"https://colab.research.google.com/github/sumanth-rachamalla/Spark-Foundation-Internship/blob/main/Stock_market_prediction_%2C_Task7_Spark.ipynb\" target=\"_parent\"><img src=\"https://colab.research.google.com/assets/colab-badge.svg\" alt=\"Open In Colab\"/></a>"
      ]
    },
    {
      "cell_type": "markdown",
      "source": [
        "## **Graduate Rotational Internship Program(GRIP): The Sparks Foundation**\n",
        "\n",
        "## **Data Science & Business Analytics Intern**"
      ],
      "metadata": {
        "id": "d4OpKuMcMtDa"
      }
    },
    {
      "cell_type": "markdown",
      "metadata": {
        "id": "Bok4JeLcyjTe"
      },
      "source": [
        "#**Author - Sumanth Rachamalla**"
      ]
    },
    {
      "cell_type": "markdown",
      "metadata": {
        "id": "3l6iqDXiyLQb"
      },
      "source": [
        "\n",
        "## **Task-7 Stock Market Prediction using Numerical and Textual Analysis**\n",
        "In this task I tried to create a hybrid model for stock performance prediction using numerical analysis of historical stock prices, and sentimental analysis of news headlines.  \n",
        "\n",
        "\n",
        "\n",
        "**Datasets used**\n",
        "\n",
        "*   Historical stock prices :[https://finance.yahoo.com/](https://finance.yahoo.com/)\n",
        "*   Textual news headlines : [https://bit.ly/36fFPI6](https://bit.ly/36fFPI6)\n",
        "\n"
      ]
    },
    {
      "cell_type": "code",
      "metadata": {
        "colab": {
          "base_uri": "https://localhost:8080/"
        },
        "id": "TOLxWlJoyKb3",
        "outputId": "9a326d74-3ba3-486f-d8fa-b5089aba7847"
      },
      "source": [
        "#importing libraries \n",
        "import warnings\n",
        "warnings.filterwarnings('ignore')\n",
        "\n",
        "import math\n",
        "import pandas as pd\n",
        "import numpy as np\n",
        "\n",
        "import matplotlib.pyplot as plt\n",
        "import seaborn as sns\n",
        "\n",
        "from keras.models import Sequential\n",
        "from keras.layers import Dense, LSTM, Dropout, Dense, Activation\n",
        "\n",
        "import nltk\n",
        "from nltk.classify import NaiveBayesClassifier\n",
        "from nltk.corpus import subjectivity\n",
        "from nltk.sentiment import SentimentAnalyzer\n",
        "from nltk.sentiment.util import *\n",
        "nltk.download('vader_lexicon')\n",
        "\n",
        "from sklearn import preprocessing, metrics\n",
        "from sklearn.preprocessing import MinMaxScaler"
      ],
      "execution_count": null,
      "outputs": [
        {
          "output_type": "stream",
          "text": [
            "[nltk_data] Downloading package vader_lexicon to /root/nltk_data...\n",
            "[nltk_data]   Package vader_lexicon is already up-to-date!\n"
          ],
          "name": "stdout"
        }
      ]
    },
    {
      "cell_type": "markdown",
      "metadata": {
        "id": "IUrxYctKztPV"
      },
      "source": [
        "##**Step 1 : Importing the Numerical dataset and performing Exploratory Analysis**"
      ]
    },
    {
      "cell_type": "code",
      "metadata": {
        "colab": {
          "base_uri": "https://localhost:8080/"
        },
        "id": "uStYpb5V-0ck",
        "outputId": "bb26dada-a9f0-46a5-865f-9bc5a0fb769a"
      },
      "source": [
        "from google.colab import drive\n",
        "drive.mount('/content/drive')"
      ],
      "execution_count": null,
      "outputs": [
        {
          "output_type": "stream",
          "text": [
            "Drive already mounted at /content/drive; to attempt to forcibly remount, call drive.mount(\"/content/drive\", force_remount=True).\n"
          ],
          "name": "stdout"
        }
      ]
    },
    {
      "cell_type": "code",
      "metadata": {
        "id": "ZaRuckg_-1Nb"
      },
      "source": [
        "# reading the datasets into pandas\n",
        "\n",
        "stock_price = pd.read_csv('/content/drive/MyDrive/TheSparkFoundation/AAPL.csv')\n",
        "stock_headlines = pd.read_csv('/content/drive/MyDrive/TheSparkFoundation/india-news-headlines.csv')"
      ],
      "execution_count": null,
      "outputs": []
    },
    {
      "cell_type": "code",
      "metadata": {
        "colab": {
          "base_uri": "https://localhost:8080/",
          "height": 203
        },
        "id": "2QazCxWsLQ_8",
        "outputId": "676c000c-d40f-4c98-e7a7-23809a6503af"
      },
      "source": [
        "# displaying stock price dataset\n",
        "stock_price.head()"
      ],
      "execution_count": null,
      "outputs": [
        {
          "output_type": "execute_result",
          "data": {
            "text/html": [
              "<div>\n",
              "<style scoped>\n",
              "    .dataframe tbody tr th:only-of-type {\n",
              "        vertical-align: middle;\n",
              "    }\n",
              "\n",
              "    .dataframe tbody tr th {\n",
              "        vertical-align: top;\n",
              "    }\n",
              "\n",
              "    .dataframe thead th {\n",
              "        text-align: right;\n",
              "    }\n",
              "</style>\n",
              "<table border=\"1\" class=\"dataframe\">\n",
              "  <thead>\n",
              "    <tr style=\"text-align: right;\">\n",
              "      <th></th>\n",
              "      <th>Date</th>\n",
              "      <th>Open</th>\n",
              "      <th>High</th>\n",
              "      <th>Low</th>\n",
              "      <th>Close</th>\n",
              "      <th>Adj Close</th>\n",
              "      <th>Volume</th>\n",
              "    </tr>\n",
              "  </thead>\n",
              "  <tbody>\n",
              "    <tr>\n",
              "      <th>0</th>\n",
              "      <td>2020-06-08</td>\n",
              "      <td>82.562500</td>\n",
              "      <td>83.400002</td>\n",
              "      <td>81.830002</td>\n",
              "      <td>83.364998</td>\n",
              "      <td>82.807037</td>\n",
              "      <td>95654400</td>\n",
              "    </tr>\n",
              "    <tr>\n",
              "      <th>1</th>\n",
              "      <td>2020-06-09</td>\n",
              "      <td>83.035004</td>\n",
              "      <td>86.402496</td>\n",
              "      <td>83.002502</td>\n",
              "      <td>85.997498</td>\n",
              "      <td>85.421921</td>\n",
              "      <td>147712400</td>\n",
              "    </tr>\n",
              "    <tr>\n",
              "      <th>2</th>\n",
              "      <td>2020-06-10</td>\n",
              "      <td>86.974998</td>\n",
              "      <td>88.692497</td>\n",
              "      <td>86.522499</td>\n",
              "      <td>88.209999</td>\n",
              "      <td>87.619614</td>\n",
              "      <td>166651600</td>\n",
              "    </tr>\n",
              "    <tr>\n",
              "      <th>3</th>\n",
              "      <td>2020-06-11</td>\n",
              "      <td>87.327499</td>\n",
              "      <td>87.764999</td>\n",
              "      <td>83.870003</td>\n",
              "      <td>83.974998</td>\n",
              "      <td>83.412964</td>\n",
              "      <td>201662400</td>\n",
              "    </tr>\n",
              "    <tr>\n",
              "      <th>4</th>\n",
              "      <td>2020-06-12</td>\n",
              "      <td>86.180000</td>\n",
              "      <td>86.949997</td>\n",
              "      <td>83.555000</td>\n",
              "      <td>84.699997</td>\n",
              "      <td>84.133095</td>\n",
              "      <td>200146000</td>\n",
              "    </tr>\n",
              "  </tbody>\n",
              "</table>\n",
              "</div>"
            ],
            "text/plain": [
              "         Date       Open       High        Low      Close  Adj Close     Volume\n",
              "0  2020-06-08  82.562500  83.400002  81.830002  83.364998  82.807037   95654400\n",
              "1  2020-06-09  83.035004  86.402496  83.002502  85.997498  85.421921  147712400\n",
              "2  2020-06-10  86.974998  88.692497  86.522499  88.209999  87.619614  166651600\n",
              "3  2020-06-11  87.327499  87.764999  83.870003  83.974998  83.412964  201662400\n",
              "4  2020-06-12  86.180000  86.949997  83.555000  84.699997  84.133095  200146000"
            ]
          },
          "metadata": {
            "tags": []
          },
          "execution_count": 252
        }
      ]
    },
    {
      "cell_type": "code",
      "metadata": {
        "colab": {
          "base_uri": "https://localhost:8080/",
          "height": 203
        },
        "id": "4HXStfabLp2Z",
        "outputId": "bd510281-2788-41df-ab20-0e69a25025f7"
      },
      "source": [
        "# displaying stock news headlines dataset\n",
        "stock_headlines.head()\n"
      ],
      "execution_count": null,
      "outputs": [
        {
          "output_type": "execute_result",
          "data": {
            "text/html": [
              "<div>\n",
              "<style scoped>\n",
              "    .dataframe tbody tr th:only-of-type {\n",
              "        vertical-align: middle;\n",
              "    }\n",
              "\n",
              "    .dataframe tbody tr th {\n",
              "        vertical-align: top;\n",
              "    }\n",
              "\n",
              "    .dataframe thead th {\n",
              "        text-align: right;\n",
              "    }\n",
              "</style>\n",
              "<table border=\"1\" class=\"dataframe\">\n",
              "  <thead>\n",
              "    <tr style=\"text-align: right;\">\n",
              "      <th></th>\n",
              "      <th>publish_date</th>\n",
              "      <th>headline_category</th>\n",
              "      <th>headline_text</th>\n",
              "    </tr>\n",
              "  </thead>\n",
              "  <tbody>\n",
              "    <tr>\n",
              "      <th>0</th>\n",
              "      <td>20010102</td>\n",
              "      <td>unknown</td>\n",
              "      <td>Status quo will not be disturbed at Ayodhya; s...</td>\n",
              "    </tr>\n",
              "    <tr>\n",
              "      <th>1</th>\n",
              "      <td>20010102</td>\n",
              "      <td>unknown</td>\n",
              "      <td>Fissures in Hurriyat over Pak visit</td>\n",
              "    </tr>\n",
              "    <tr>\n",
              "      <th>2</th>\n",
              "      <td>20010102</td>\n",
              "      <td>unknown</td>\n",
              "      <td>America's unwanted heading for India?</td>\n",
              "    </tr>\n",
              "    <tr>\n",
              "      <th>3</th>\n",
              "      <td>20010102</td>\n",
              "      <td>unknown</td>\n",
              "      <td>For bigwigs; it is destination Goa</td>\n",
              "    </tr>\n",
              "    <tr>\n",
              "      <th>4</th>\n",
              "      <td>20010102</td>\n",
              "      <td>unknown</td>\n",
              "      <td>Extra buses to clear tourist traffic</td>\n",
              "    </tr>\n",
              "  </tbody>\n",
              "</table>\n",
              "</div>"
            ],
            "text/plain": [
              "   publish_date  ...                                      headline_text\n",
              "0      20010102  ...  Status quo will not be disturbed at Ayodhya; s...\n",
              "1      20010102  ...                Fissures in Hurriyat over Pak visit\n",
              "2      20010102  ...              America's unwanted heading for India?\n",
              "3      20010102  ...                 For bigwigs; it is destination Goa\n",
              "4      20010102  ...               Extra buses to clear tourist traffic\n",
              "\n",
              "[5 rows x 3 columns]"
            ]
          },
          "metadata": {
            "tags": []
          },
          "execution_count": 253
        }
      ]
    },
    {
      "cell_type": "markdown",
      "metadata": {
        "id": "uKVP8wuJNFES"
      },
      "source": [
        "## **Step 2: Feature Engineering**"
      ]
    },
    {
      "cell_type": "code",
      "metadata": {
        "colab": {
          "base_uri": "https://localhost:8080/"
        },
        "id": "qg40zfo5M04R",
        "outputId": "fa52e317-5956-444b-c7c0-29941490f542"
      },
      "source": [
        "# displaying number of records in both stock_price and stock_headlines datasets\n",
        "len(stock_price), len(stock_headlines)"
      ],
      "execution_count": null,
      "outputs": [
        {
          "output_type": "execute_result",
          "data": {
            "text/plain": [
              "(253, 3424067)"
            ]
          },
          "metadata": {
            "tags": []
          },
          "execution_count": 254
        }
      ]
    },
    {
      "cell_type": "code",
      "metadata": {
        "colab": {
          "base_uri": "https://localhost:8080/"
        },
        "id": "s1Pb-m65NQAd",
        "outputId": "5f50dd0b-3828-475c-ce2b-870565b3e201"
      },
      "source": [
        "# checking for null values in both the datasets\n",
        "stock_price.isna().any(), stock_headlines.isna().any()"
      ],
      "execution_count": null,
      "outputs": [
        {
          "output_type": "execute_result",
          "data": {
            "text/plain": [
              "(Date         False\n",
              " Open         False\n",
              " High         False\n",
              " Low          False\n",
              " Close        False\n",
              " Adj Close    False\n",
              " Volume       False\n",
              " dtype: bool, publish_date         False\n",
              " headline_category    False\n",
              " headline_text        False\n",
              " dtype: bool)"
            ]
          },
          "metadata": {
            "tags": []
          },
          "execution_count": 255
        }
      ]
    },
    {
      "cell_type": "markdown",
      "metadata": {
        "id": "QiXh2WCCNyXR"
      },
      "source": [
        "##**Step 2.1 : 2.1 Stock Price Data**"
      ]
    },
    {
      "cell_type": "code",
      "metadata": {
        "colab": {
          "base_uri": "https://localhost:8080/",
          "height": 447
        },
        "id": "uRa8SIRVNcch",
        "outputId": "41b27661-a284-4188-b027-e45113b0fcb0"
      },
      "source": [
        "# dropping duplicates\n",
        "stock_price = stock_price.drop_duplicates()\n",
        "\n",
        "# coverting the datatype of column 'Date' from type object to type 'datetime'\n",
        "stock_price['Date'] = pd.to_datetime(stock_price['Date']).dt.normalize()\n",
        "\n",
        "# filtering the important columns required\n",
        "stock_price = stock_price.filter(['Date', 'Close', 'Open', 'High', 'Low', 'Volume'])\n",
        "\n",
        "# setting column 'Date' as the index column\n",
        "stock_price.set_index('Date', inplace= True)\n",
        "\n",
        "# sorting the data according to the index i.e 'Date'\n",
        "stock_price = stock_price.sort_index(ascending=True, axis=0)\n",
        "stock_price"
      ],
      "execution_count": null,
      "outputs": [
        {
          "output_type": "execute_result",
          "data": {
            "text/html": [
              "<div>\n",
              "<style scoped>\n",
              "    .dataframe tbody tr th:only-of-type {\n",
              "        vertical-align: middle;\n",
              "    }\n",
              "\n",
              "    .dataframe tbody tr th {\n",
              "        vertical-align: top;\n",
              "    }\n",
              "\n",
              "    .dataframe thead th {\n",
              "        text-align: right;\n",
              "    }\n",
              "</style>\n",
              "<table border=\"1\" class=\"dataframe\">\n",
              "  <thead>\n",
              "    <tr style=\"text-align: right;\">\n",
              "      <th></th>\n",
              "      <th>Close</th>\n",
              "      <th>Open</th>\n",
              "      <th>High</th>\n",
              "      <th>Low</th>\n",
              "      <th>Volume</th>\n",
              "    </tr>\n",
              "    <tr>\n",
              "      <th>Date</th>\n",
              "      <th></th>\n",
              "      <th></th>\n",
              "      <th></th>\n",
              "      <th></th>\n",
              "      <th></th>\n",
              "    </tr>\n",
              "  </thead>\n",
              "  <tbody>\n",
              "    <tr>\n",
              "      <th>2020-06-08</th>\n",
              "      <td>83.364998</td>\n",
              "      <td>82.562500</td>\n",
              "      <td>83.400002</td>\n",
              "      <td>81.830002</td>\n",
              "      <td>95654400</td>\n",
              "    </tr>\n",
              "    <tr>\n",
              "      <th>2020-06-09</th>\n",
              "      <td>85.997498</td>\n",
              "      <td>83.035004</td>\n",
              "      <td>86.402496</td>\n",
              "      <td>83.002502</td>\n",
              "      <td>147712400</td>\n",
              "    </tr>\n",
              "    <tr>\n",
              "      <th>2020-06-10</th>\n",
              "      <td>88.209999</td>\n",
              "      <td>86.974998</td>\n",
              "      <td>88.692497</td>\n",
              "      <td>86.522499</td>\n",
              "      <td>166651600</td>\n",
              "    </tr>\n",
              "    <tr>\n",
              "      <th>2020-06-11</th>\n",
              "      <td>83.974998</td>\n",
              "      <td>87.327499</td>\n",
              "      <td>87.764999</td>\n",
              "      <td>83.870003</td>\n",
              "      <td>201662400</td>\n",
              "    </tr>\n",
              "    <tr>\n",
              "      <th>2020-06-12</th>\n",
              "      <td>84.699997</td>\n",
              "      <td>86.180000</td>\n",
              "      <td>86.949997</td>\n",
              "      <td>83.555000</td>\n",
              "      <td>200146000</td>\n",
              "    </tr>\n",
              "    <tr>\n",
              "      <th>...</th>\n",
              "      <td>...</td>\n",
              "      <td>...</td>\n",
              "      <td>...</td>\n",
              "      <td>...</td>\n",
              "      <td>...</td>\n",
              "    </tr>\n",
              "    <tr>\n",
              "      <th>2021-06-02</th>\n",
              "      <td>125.059998</td>\n",
              "      <td>124.279999</td>\n",
              "      <td>125.239998</td>\n",
              "      <td>124.050003</td>\n",
              "      <td>59278900</td>\n",
              "    </tr>\n",
              "    <tr>\n",
              "      <th>2021-06-03</th>\n",
              "      <td>123.540001</td>\n",
              "      <td>124.680000</td>\n",
              "      <td>124.849998</td>\n",
              "      <td>123.129997</td>\n",
              "      <td>76229200</td>\n",
              "    </tr>\n",
              "    <tr>\n",
              "      <th>2021-06-04</th>\n",
              "      <td>125.889999</td>\n",
              "      <td>124.070000</td>\n",
              "      <td>126.160004</td>\n",
              "      <td>123.849998</td>\n",
              "      <td>75087300</td>\n",
              "    </tr>\n",
              "    <tr>\n",
              "      <th>2021-06-07</th>\n",
              "      <td>125.900002</td>\n",
              "      <td>126.169998</td>\n",
              "      <td>126.320000</td>\n",
              "      <td>124.830002</td>\n",
              "      <td>70927000</td>\n",
              "    </tr>\n",
              "    <tr>\n",
              "      <th>2021-06-08</th>\n",
              "      <td>128.201096</td>\n",
              "      <td>126.599998</td>\n",
              "      <td>128.289993</td>\n",
              "      <td>126.448502</td>\n",
              "      <td>10838097</td>\n",
              "    </tr>\n",
              "  </tbody>\n",
              "</table>\n",
              "<p>253 rows × 5 columns</p>\n",
              "</div>"
            ],
            "text/plain": [
              "                 Close        Open        High         Low     Volume\n",
              "Date                                                                 \n",
              "2020-06-08   83.364998   82.562500   83.400002   81.830002   95654400\n",
              "2020-06-09   85.997498   83.035004   86.402496   83.002502  147712400\n",
              "2020-06-10   88.209999   86.974998   88.692497   86.522499  166651600\n",
              "2020-06-11   83.974998   87.327499   87.764999   83.870003  201662400\n",
              "2020-06-12   84.699997   86.180000   86.949997   83.555000  200146000\n",
              "...                ...         ...         ...         ...        ...\n",
              "2021-06-02  125.059998  124.279999  125.239998  124.050003   59278900\n",
              "2021-06-03  123.540001  124.680000  124.849998  123.129997   76229200\n",
              "2021-06-04  125.889999  124.070000  126.160004  123.849998   75087300\n",
              "2021-06-07  125.900002  126.169998  126.320000  124.830002   70927000\n",
              "2021-06-08  128.201096  126.599998  128.289993  126.448502   10838097\n",
              "\n",
              "[253 rows x 5 columns]"
            ]
          },
          "metadata": {
            "tags": []
          },
          "execution_count": 256
        }
      ]
    },
    {
      "cell_type": "markdown",
      "metadata": {
        "id": "T1ylzqdozQ9p"
      },
      "source": [
        "## **Step : 2.2 Stock News Headlines Data**"
      ]
    },
    {
      "cell_type": "code",
      "metadata": {
        "colab": {
          "base_uri": "https://localhost:8080/",
          "height": 447
        },
        "id": "nFeE5uEvOt90",
        "outputId": "da624641-07c4-437e-99fa-b4078d2cf347"
      },
      "source": [
        "\n",
        "# dropping duplicates\n",
        "stock_headlines = stock_headlines.drop_duplicates()\n",
        "\n",
        "# coverting the datatype of column 'Date' from type string to type 'datetime'\n",
        "stock_headlines['publish_date'] = stock_headlines['publish_date'].astype(str)\n",
        "stock_headlines['publish_date'] = stock_headlines['publish_date'].apply(lambda x: x[0:4]+'-'+x[4:6]+'-'+x[6:8])\n",
        "stock_headlines['publish_date'] = pd.to_datetime(stock_headlines['publish_date']).dt.normalize()\n",
        "\n",
        "# filtering the important columns required\n",
        "stock_headlines = stock_headlines.filter(['publish_date', 'headline_text'])\n",
        "\n",
        "# grouping the news headlines according to 'Date'\n",
        "stock_headlines = stock_headlines.groupby(['publish_date'])['headline_text'].apply(lambda x: ','.join(x)).reset_index()\n",
        "\n",
        "# setting column 'Date' as the index column\n",
        "stock_headlines.set_index('publish_date', inplace= True)\n",
        "\n",
        "# sorting the data according to the index i.e 'Date'\n",
        "stock_headlines = stock_headlines.sort_index(ascending=True, axis=0)\n",
        "stock_headlines"
      ],
      "execution_count": null,
      "outputs": [
        {
          "output_type": "execute_result",
          "data": {
            "text/html": [
              "<div>\n",
              "<style scoped>\n",
              "    .dataframe tbody tr th:only-of-type {\n",
              "        vertical-align: middle;\n",
              "    }\n",
              "\n",
              "    .dataframe tbody tr th {\n",
              "        vertical-align: top;\n",
              "    }\n",
              "\n",
              "    .dataframe thead th {\n",
              "        text-align: right;\n",
              "    }\n",
              "</style>\n",
              "<table border=\"1\" class=\"dataframe\">\n",
              "  <thead>\n",
              "    <tr style=\"text-align: right;\">\n",
              "      <th></th>\n",
              "      <th>headline_text</th>\n",
              "    </tr>\n",
              "    <tr>\n",
              "      <th>publish_date</th>\n",
              "      <th></th>\n",
              "    </tr>\n",
              "  </thead>\n",
              "  <tbody>\n",
              "    <tr>\n",
              "      <th>2001-01-02</th>\n",
              "      <td>Status quo will not be disturbed at Ayodhya; s...</td>\n",
              "    </tr>\n",
              "    <tr>\n",
              "      <th>2001-01-03</th>\n",
              "      <td>Powerless north India gropes in the dark,Think...</td>\n",
              "    </tr>\n",
              "    <tr>\n",
              "      <th>2001-01-04</th>\n",
              "      <td>The string that pulled Stephen Hawking to Indi...</td>\n",
              "    </tr>\n",
              "    <tr>\n",
              "      <th>2001-01-05</th>\n",
              "      <td>Light combat craft takes India into club class...</td>\n",
              "    </tr>\n",
              "    <tr>\n",
              "      <th>2001-01-06</th>\n",
              "      <td>Light combat craft takes India into club class...</td>\n",
              "    </tr>\n",
              "    <tr>\n",
              "      <th>...</th>\n",
              "      <td>...</td>\n",
              "    </tr>\n",
              "    <tr>\n",
              "      <th>2020-12-27</th>\n",
              "      <td>#BigInterview! Dhritiman Chatterjee: Nobody da...</td>\n",
              "    </tr>\n",
              "    <tr>\n",
              "      <th>2020-12-28</th>\n",
              "      <td>Horoscope Today; 28 December 2020: Check astro...</td>\n",
              "    </tr>\n",
              "    <tr>\n",
              "      <th>2020-12-29</th>\n",
              "      <td>Man recovers charred remains of 'thief' from h...</td>\n",
              "    </tr>\n",
              "    <tr>\n",
              "      <th>2020-12-30</th>\n",
              "      <td>Numerology Readings 30 December 2020: Predicti...</td>\n",
              "    </tr>\n",
              "    <tr>\n",
              "      <th>2020-12-31</th>\n",
              "      <td>Horoscope Today; 31 December 2020: Check astro...</td>\n",
              "    </tr>\n",
              "  </tbody>\n",
              "</table>\n",
              "<p>7262 rows × 1 columns</p>\n",
              "</div>"
            ],
            "text/plain": [
              "                                                  headline_text\n",
              "publish_date                                                   \n",
              "2001-01-02    Status quo will not be disturbed at Ayodhya; s...\n",
              "2001-01-03    Powerless north India gropes in the dark,Think...\n",
              "2001-01-04    The string that pulled Stephen Hawking to Indi...\n",
              "2001-01-05    Light combat craft takes India into club class...\n",
              "2001-01-06    Light combat craft takes India into club class...\n",
              "...                                                         ...\n",
              "2020-12-27    #BigInterview! Dhritiman Chatterjee: Nobody da...\n",
              "2020-12-28    Horoscope Today; 28 December 2020: Check astro...\n",
              "2020-12-29    Man recovers charred remains of 'thief' from h...\n",
              "2020-12-30    Numerology Readings 30 December 2020: Predicti...\n",
              "2020-12-31    Horoscope Today; 31 December 2020: Check astro...\n",
              "\n",
              "[7262 rows x 1 columns]"
            ]
          },
          "metadata": {
            "tags": []
          },
          "execution_count": 257
        }
      ]
    },
    {
      "cell_type": "markdown",
      "metadata": {
        "id": "YUOlGzTcz9-5"
      },
      "source": [
        "##**Step 2.3 Combined Stock Data**"
      ]
    },
    {
      "cell_type": "code",
      "metadata": {
        "colab": {
          "base_uri": "https://localhost:8080/",
          "height": 417
        },
        "id": "CE7dx4ZpPNwI",
        "outputId": "f14126fc-29f2-46cf-ec20-696d688e9254"
      },
      "source": [
        "# concatenating the datasets stock_price and stock_headlines\n",
        "stock_data = pd.concat([stock_price, stock_headlines], axis=1)\n",
        "\n",
        "# dropping the null values if any\n",
        "stock_data.dropna(axis=0, inplace=True)\n",
        "\n",
        "# displaying the combined stock_data\n",
        "stock_data"
      ],
      "execution_count": null,
      "outputs": [
        {
          "output_type": "execute_result",
          "data": {
            "text/html": [
              "<div>\n",
              "<style scoped>\n",
              "    .dataframe tbody tr th:only-of-type {\n",
              "        vertical-align: middle;\n",
              "    }\n",
              "\n",
              "    .dataframe tbody tr th {\n",
              "        vertical-align: top;\n",
              "    }\n",
              "\n",
              "    .dataframe thead th {\n",
              "        text-align: right;\n",
              "    }\n",
              "</style>\n",
              "<table border=\"1\" class=\"dataframe\">\n",
              "  <thead>\n",
              "    <tr style=\"text-align: right;\">\n",
              "      <th></th>\n",
              "      <th>Close</th>\n",
              "      <th>Open</th>\n",
              "      <th>High</th>\n",
              "      <th>Low</th>\n",
              "      <th>Volume</th>\n",
              "      <th>headline_text</th>\n",
              "    </tr>\n",
              "  </thead>\n",
              "  <tbody>\n",
              "    <tr>\n",
              "      <th>2020-06-08</th>\n",
              "      <td>83.364998</td>\n",
              "      <td>82.562500</td>\n",
              "      <td>83.400002</td>\n",
              "      <td>81.830002</td>\n",
              "      <td>95654400.0</td>\n",
              "      <td>DK KSRTC loses Rs 86 cr during lockdown,Vasco ...</td>\n",
              "    </tr>\n",
              "    <tr>\n",
              "      <th>2020-06-09</th>\n",
              "      <td>85.997498</td>\n",
              "      <td>83.035004</td>\n",
              "      <td>86.402496</td>\n",
              "      <td>83.002502</td>\n",
              "      <td>147712400.0</td>\n",
              "      <td>New library with 49k books opens in Madikeri,6...</td>\n",
              "    </tr>\n",
              "    <tr>\n",
              "      <th>2020-06-10</th>\n",
              "      <td>88.209999</td>\n",
              "      <td>86.974998</td>\n",
              "      <td>88.692497</td>\n",
              "      <td>86.522499</td>\n",
              "      <td>166651600.0</td>\n",
              "      <td>Wearing PPE kits can be cumbersome; but custom...</td>\n",
              "    </tr>\n",
              "    <tr>\n",
              "      <th>2020-06-11</th>\n",
              "      <td>83.974998</td>\n",
              "      <td>87.327499</td>\n",
              "      <td>87.764999</td>\n",
              "      <td>83.870003</td>\n",
              "      <td>201662400.0</td>\n",
              "      <td>Barbers at Kashi ghats hope for biz revival,Pa...</td>\n",
              "    </tr>\n",
              "    <tr>\n",
              "      <th>2020-06-12</th>\n",
              "      <td>84.699997</td>\n",
              "      <td>86.180000</td>\n",
              "      <td>86.949997</td>\n",
              "      <td>83.555000</td>\n",
              "      <td>200146000.0</td>\n",
              "      <td>Why microbreweries can't beer it: High restart...</td>\n",
              "    </tr>\n",
              "    <tr>\n",
              "      <th>...</th>\n",
              "      <td>...</td>\n",
              "      <td>...</td>\n",
              "      <td>...</td>\n",
              "      <td>...</td>\n",
              "      <td>...</td>\n",
              "      <td>...</td>\n",
              "    </tr>\n",
              "    <tr>\n",
              "      <th>2020-12-24</th>\n",
              "      <td>131.970001</td>\n",
              "      <td>131.320007</td>\n",
              "      <td>133.460007</td>\n",
              "      <td>131.100006</td>\n",
              "      <td>54930100.0</td>\n",
              "      <td>How to set the mood for sex during cold winter...</td>\n",
              "    </tr>\n",
              "    <tr>\n",
              "      <th>2020-12-28</th>\n",
              "      <td>136.690002</td>\n",
              "      <td>133.990005</td>\n",
              "      <td>137.339996</td>\n",
              "      <td>133.509995</td>\n",
              "      <td>124486200.0</td>\n",
              "      <td>Horoscope Today; 28 December 2020: Check astro...</td>\n",
              "    </tr>\n",
              "    <tr>\n",
              "      <th>2020-12-29</th>\n",
              "      <td>134.869995</td>\n",
              "      <td>138.050003</td>\n",
              "      <td>138.789993</td>\n",
              "      <td>134.339996</td>\n",
              "      <td>121047300.0</td>\n",
              "      <td>Man recovers charred remains of 'thief' from h...</td>\n",
              "    </tr>\n",
              "    <tr>\n",
              "      <th>2020-12-30</th>\n",
              "      <td>133.720001</td>\n",
              "      <td>135.580002</td>\n",
              "      <td>135.990005</td>\n",
              "      <td>133.399994</td>\n",
              "      <td>96452100.0</td>\n",
              "      <td>Numerology Readings 30 December 2020: Predicti...</td>\n",
              "    </tr>\n",
              "    <tr>\n",
              "      <th>2020-12-31</th>\n",
              "      <td>132.690002</td>\n",
              "      <td>134.080002</td>\n",
              "      <td>134.740005</td>\n",
              "      <td>131.720001</td>\n",
              "      <td>99116600.0</td>\n",
              "      <td>Horoscope Today; 31 December 2020: Check astro...</td>\n",
              "    </tr>\n",
              "  </tbody>\n",
              "</table>\n",
              "<p>145 rows × 6 columns</p>\n",
              "</div>"
            ],
            "text/plain": [
              "                 Close  ...                                      headline_text\n",
              "2020-06-08   83.364998  ...  DK KSRTC loses Rs 86 cr during lockdown,Vasco ...\n",
              "2020-06-09   85.997498  ...  New library with 49k books opens in Madikeri,6...\n",
              "2020-06-10   88.209999  ...  Wearing PPE kits can be cumbersome; but custom...\n",
              "2020-06-11   83.974998  ...  Barbers at Kashi ghats hope for biz revival,Pa...\n",
              "2020-06-12   84.699997  ...  Why microbreweries can't beer it: High restart...\n",
              "...                ...  ...                                                ...\n",
              "2020-12-24  131.970001  ...  How to set the mood for sex during cold winter...\n",
              "2020-12-28  136.690002  ...  Horoscope Today; 28 December 2020: Check astro...\n",
              "2020-12-29  134.869995  ...  Man recovers charred remains of 'thief' from h...\n",
              "2020-12-30  133.720001  ...  Numerology Readings 30 December 2020: Predicti...\n",
              "2020-12-31  132.690002  ...  Horoscope Today; 31 December 2020: Check astro...\n",
              "\n",
              "[145 rows x 6 columns]"
            ]
          },
          "metadata": {
            "tags": []
          },
          "execution_count": 174
        }
      ]
    },
    {
      "cell_type": "markdown",
      "metadata": {
        "id": "vzTP7_150GtC"
      },
      "source": [
        "##**Step 2.4 Calculating Sentiment Scores**"
      ]
    },
    {
      "cell_type": "code",
      "metadata": {
        "colab": {
          "base_uri": "https://localhost:8080/",
          "height": 287
        },
        "id": "jIFNWI330Fr8",
        "outputId": "95626044-4429-47f4-8a2a-e35058adbecb"
      },
      "source": [
        "# adding empty sentiment columns to stock_data for later calculation\n",
        "stock_data['compound'] = ''\n",
        "stock_data['negative'] = ''\n",
        "stock_data['neutral'] = ''\n",
        "stock_data['positive'] = ''\n",
        "stock_data.head()"
      ],
      "execution_count": null,
      "outputs": [
        {
          "output_type": "execute_result",
          "data": {
            "text/html": [
              "<div>\n",
              "<style scoped>\n",
              "    .dataframe tbody tr th:only-of-type {\n",
              "        vertical-align: middle;\n",
              "    }\n",
              "\n",
              "    .dataframe tbody tr th {\n",
              "        vertical-align: top;\n",
              "    }\n",
              "\n",
              "    .dataframe thead th {\n",
              "        text-align: right;\n",
              "    }\n",
              "</style>\n",
              "<table border=\"1\" class=\"dataframe\">\n",
              "  <thead>\n",
              "    <tr style=\"text-align: right;\">\n",
              "      <th></th>\n",
              "      <th>Close</th>\n",
              "      <th>Open</th>\n",
              "      <th>High</th>\n",
              "      <th>Low</th>\n",
              "      <th>Volume</th>\n",
              "      <th>headline_text</th>\n",
              "      <th>compound</th>\n",
              "      <th>negative</th>\n",
              "      <th>neutral</th>\n",
              "      <th>positive</th>\n",
              "    </tr>\n",
              "  </thead>\n",
              "  <tbody>\n",
              "    <tr>\n",
              "      <th>2020-06-08</th>\n",
              "      <td>83.364998</td>\n",
              "      <td>82.562500</td>\n",
              "      <td>83.400002</td>\n",
              "      <td>81.830002</td>\n",
              "      <td>95654400.0</td>\n",
              "      <td>DK KSRTC loses Rs 86 cr during lockdown,Vasco ...</td>\n",
              "      <td></td>\n",
              "      <td></td>\n",
              "      <td></td>\n",
              "      <td></td>\n",
              "    </tr>\n",
              "    <tr>\n",
              "      <th>2020-06-09</th>\n",
              "      <td>85.997498</td>\n",
              "      <td>83.035004</td>\n",
              "      <td>86.402496</td>\n",
              "      <td>83.002502</td>\n",
              "      <td>147712400.0</td>\n",
              "      <td>New library with 49k books opens in Madikeri,6...</td>\n",
              "      <td></td>\n",
              "      <td></td>\n",
              "      <td></td>\n",
              "      <td></td>\n",
              "    </tr>\n",
              "    <tr>\n",
              "      <th>2020-06-10</th>\n",
              "      <td>88.209999</td>\n",
              "      <td>86.974998</td>\n",
              "      <td>88.692497</td>\n",
              "      <td>86.522499</td>\n",
              "      <td>166651600.0</td>\n",
              "      <td>Wearing PPE kits can be cumbersome; but custom...</td>\n",
              "      <td></td>\n",
              "      <td></td>\n",
              "      <td></td>\n",
              "      <td></td>\n",
              "    </tr>\n",
              "    <tr>\n",
              "      <th>2020-06-11</th>\n",
              "      <td>83.974998</td>\n",
              "      <td>87.327499</td>\n",
              "      <td>87.764999</td>\n",
              "      <td>83.870003</td>\n",
              "      <td>201662400.0</td>\n",
              "      <td>Barbers at Kashi ghats hope for biz revival,Pa...</td>\n",
              "      <td></td>\n",
              "      <td></td>\n",
              "      <td></td>\n",
              "      <td></td>\n",
              "    </tr>\n",
              "    <tr>\n",
              "      <th>2020-06-12</th>\n",
              "      <td>84.699997</td>\n",
              "      <td>86.180000</td>\n",
              "      <td>86.949997</td>\n",
              "      <td>83.555000</td>\n",
              "      <td>200146000.0</td>\n",
              "      <td>Why microbreweries can't beer it: High restart...</td>\n",
              "      <td></td>\n",
              "      <td></td>\n",
              "      <td></td>\n",
              "      <td></td>\n",
              "    </tr>\n",
              "  </tbody>\n",
              "</table>\n",
              "</div>"
            ],
            "text/plain": [
              "                Close       Open       High  ...  negative  neutral positive\n",
              "2020-06-08  83.364998  82.562500  83.400002  ...                            \n",
              "2020-06-09  85.997498  83.035004  86.402496  ...                            \n",
              "2020-06-10  88.209999  86.974998  88.692497  ...                            \n",
              "2020-06-11  83.974998  87.327499  87.764999  ...                            \n",
              "2020-06-12  84.699997  86.180000  86.949997  ...                            \n",
              "\n",
              "[5 rows x 10 columns]"
            ]
          },
          "metadata": {
            "tags": []
          },
          "execution_count": 175
        }
      ]
    },
    {
      "cell_type": "code",
      "metadata": {
        "colab": {
          "base_uri": "https://localhost:8080/",
          "height": 287
        },
        "id": "80_QoXDR0LSV",
        "outputId": "21f2cef7-7e0f-422a-cd29-61a86a7a88dc"
      },
      "source": [
        "# importing requires libraries to analyze the sentiments\n",
        "from nltk.sentiment.vader import SentimentIntensityAnalyzer\n",
        "import unicodedata\n",
        "\n",
        "# instantiating the Sentiment Analyzer\n",
        "sid = SentimentIntensityAnalyzer()\n",
        "\n",
        "# calculating sentiment scores\n",
        "stock_data['compound'] = stock_data['headline_text'].apply(lambda x: sid.polarity_scores(x)['compound'])\n",
        "stock_data['negative'] = stock_data['headline_text'].apply(lambda x: sid.polarity_scores(x)['neg'])\n",
        "stock_data['neutral'] = stock_data['headline_text'].apply(lambda x: sid.polarity_scores(x)['neu'])\n",
        "stock_data['positive'] = stock_data['headline_text'].apply(lambda x: sid.polarity_scores(x)['pos'])\n",
        "\n",
        "# displaying the stock data\n",
        "stock_data.head()"
      ],
      "execution_count": null,
      "outputs": [
        {
          "output_type": "execute_result",
          "data": {
            "text/html": [
              "<div>\n",
              "<style scoped>\n",
              "    .dataframe tbody tr th:only-of-type {\n",
              "        vertical-align: middle;\n",
              "    }\n",
              "\n",
              "    .dataframe tbody tr th {\n",
              "        vertical-align: top;\n",
              "    }\n",
              "\n",
              "    .dataframe thead th {\n",
              "        text-align: right;\n",
              "    }\n",
              "</style>\n",
              "<table border=\"1\" class=\"dataframe\">\n",
              "  <thead>\n",
              "    <tr style=\"text-align: right;\">\n",
              "      <th></th>\n",
              "      <th>Close</th>\n",
              "      <th>Open</th>\n",
              "      <th>High</th>\n",
              "      <th>Low</th>\n",
              "      <th>Volume</th>\n",
              "      <th>headline_text</th>\n",
              "      <th>compound</th>\n",
              "      <th>negative</th>\n",
              "      <th>neutral</th>\n",
              "      <th>positive</th>\n",
              "    </tr>\n",
              "  </thead>\n",
              "  <tbody>\n",
              "    <tr>\n",
              "      <th>2020-06-08</th>\n",
              "      <td>83.364998</td>\n",
              "      <td>82.562500</td>\n",
              "      <td>83.400002</td>\n",
              "      <td>81.830002</td>\n",
              "      <td>95654400.0</td>\n",
              "      <td>DK KSRTC loses Rs 86 cr during lockdown,Vasco ...</td>\n",
              "      <td>-0.9996</td>\n",
              "      <td>0.127</td>\n",
              "      <td>0.785</td>\n",
              "      <td>0.087</td>\n",
              "    </tr>\n",
              "    <tr>\n",
              "      <th>2020-06-09</th>\n",
              "      <td>85.997498</td>\n",
              "      <td>83.035004</td>\n",
              "      <td>86.402496</td>\n",
              "      <td>83.002502</td>\n",
              "      <td>147712400.0</td>\n",
              "      <td>New library with 49k books opens in Madikeri,6...</td>\n",
              "      <td>-0.9997</td>\n",
              "      <td>0.115</td>\n",
              "      <td>0.816</td>\n",
              "      <td>0.069</td>\n",
              "    </tr>\n",
              "    <tr>\n",
              "      <th>2020-06-10</th>\n",
              "      <td>88.209999</td>\n",
              "      <td>86.974998</td>\n",
              "      <td>88.692497</td>\n",
              "      <td>86.522499</td>\n",
              "      <td>166651600.0</td>\n",
              "      <td>Wearing PPE kits can be cumbersome; but custom...</td>\n",
              "      <td>-0.9997</td>\n",
              "      <td>0.143</td>\n",
              "      <td>0.753</td>\n",
              "      <td>0.104</td>\n",
              "    </tr>\n",
              "    <tr>\n",
              "      <th>2020-06-11</th>\n",
              "      <td>83.974998</td>\n",
              "      <td>87.327499</td>\n",
              "      <td>87.764999</td>\n",
              "      <td>83.870003</td>\n",
              "      <td>201662400.0</td>\n",
              "      <td>Barbers at Kashi ghats hope for biz revival,Pa...</td>\n",
              "      <td>-0.9986</td>\n",
              "      <td>0.082</td>\n",
              "      <td>0.867</td>\n",
              "      <td>0.051</td>\n",
              "    </tr>\n",
              "    <tr>\n",
              "      <th>2020-06-12</th>\n",
              "      <td>84.699997</td>\n",
              "      <td>86.180000</td>\n",
              "      <td>86.949997</td>\n",
              "      <td>83.555000</td>\n",
              "      <td>200146000.0</td>\n",
              "      <td>Why microbreweries can't beer it: High restart...</td>\n",
              "      <td>-0.9998</td>\n",
              "      <td>0.137</td>\n",
              "      <td>0.784</td>\n",
              "      <td>0.080</td>\n",
              "    </tr>\n",
              "  </tbody>\n",
              "</table>\n",
              "</div>"
            ],
            "text/plain": [
              "                Close       Open       High  ...  negative  neutral positive\n",
              "2020-06-08  83.364998  82.562500  83.400002  ...     0.127    0.785    0.087\n",
              "2020-06-09  85.997498  83.035004  86.402496  ...     0.115    0.816    0.069\n",
              "2020-06-10  88.209999  86.974998  88.692497  ...     0.143    0.753    0.104\n",
              "2020-06-11  83.974998  87.327499  87.764999  ...     0.082    0.867    0.051\n",
              "2020-06-12  84.699997  86.180000  86.949997  ...     0.137    0.784    0.080\n",
              "\n",
              "[5 rows x 10 columns]"
            ]
          },
          "metadata": {
            "tags": []
          },
          "execution_count": 176
        }
      ]
    },
    {
      "cell_type": "markdown",
      "metadata": {
        "id": "sRwjycog0yfJ"
      },
      "source": [
        "##**Step 3 : Finalising Stock Data and writing to Disk**"
      ]
    },
    {
      "cell_type": "code",
      "metadata": {
        "colab": {
          "base_uri": "https://localhost:8080/",
          "height": 203
        },
        "id": "oLkAdmod0OmF",
        "outputId": "18694f31-40cf-40b3-9813-71421edbae87"
      },
      "source": [
        "# dropping the 'headline_text' which is unwanted now\n",
        "stock_data.drop(['headline_text'], inplace=True, axis=1)\n",
        "\n",
        "# rearranging the columns of the whole stock_data\n",
        "stock_data = stock_data[['Close', 'compound', 'negative', 'neutral', 'positive', 'Open', 'High', 'Low', 'Volume']]\n",
        "\n",
        "# displaying the final stock_data\n",
        "stock_data.head()"
      ],
      "execution_count": null,
      "outputs": [
        {
          "output_type": "execute_result",
          "data": {
            "text/html": [
              "<div>\n",
              "<style scoped>\n",
              "    .dataframe tbody tr th:only-of-type {\n",
              "        vertical-align: middle;\n",
              "    }\n",
              "\n",
              "    .dataframe tbody tr th {\n",
              "        vertical-align: top;\n",
              "    }\n",
              "\n",
              "    .dataframe thead th {\n",
              "        text-align: right;\n",
              "    }\n",
              "</style>\n",
              "<table border=\"1\" class=\"dataframe\">\n",
              "  <thead>\n",
              "    <tr style=\"text-align: right;\">\n",
              "      <th></th>\n",
              "      <th>Close</th>\n",
              "      <th>compound</th>\n",
              "      <th>negative</th>\n",
              "      <th>neutral</th>\n",
              "      <th>positive</th>\n",
              "      <th>Open</th>\n",
              "      <th>High</th>\n",
              "      <th>Low</th>\n",
              "      <th>Volume</th>\n",
              "    </tr>\n",
              "  </thead>\n",
              "  <tbody>\n",
              "    <tr>\n",
              "      <th>2020-06-08</th>\n",
              "      <td>83.364998</td>\n",
              "      <td>-0.9996</td>\n",
              "      <td>0.127</td>\n",
              "      <td>0.785</td>\n",
              "      <td>0.087</td>\n",
              "      <td>82.562500</td>\n",
              "      <td>83.400002</td>\n",
              "      <td>81.830002</td>\n",
              "      <td>95654400.0</td>\n",
              "    </tr>\n",
              "    <tr>\n",
              "      <th>2020-06-09</th>\n",
              "      <td>85.997498</td>\n",
              "      <td>-0.9997</td>\n",
              "      <td>0.115</td>\n",
              "      <td>0.816</td>\n",
              "      <td>0.069</td>\n",
              "      <td>83.035004</td>\n",
              "      <td>86.402496</td>\n",
              "      <td>83.002502</td>\n",
              "      <td>147712400.0</td>\n",
              "    </tr>\n",
              "    <tr>\n",
              "      <th>2020-06-10</th>\n",
              "      <td>88.209999</td>\n",
              "      <td>-0.9997</td>\n",
              "      <td>0.143</td>\n",
              "      <td>0.753</td>\n",
              "      <td>0.104</td>\n",
              "      <td>86.974998</td>\n",
              "      <td>88.692497</td>\n",
              "      <td>86.522499</td>\n",
              "      <td>166651600.0</td>\n",
              "    </tr>\n",
              "    <tr>\n",
              "      <th>2020-06-11</th>\n",
              "      <td>83.974998</td>\n",
              "      <td>-0.9986</td>\n",
              "      <td>0.082</td>\n",
              "      <td>0.867</td>\n",
              "      <td>0.051</td>\n",
              "      <td>87.327499</td>\n",
              "      <td>87.764999</td>\n",
              "      <td>83.870003</td>\n",
              "      <td>201662400.0</td>\n",
              "    </tr>\n",
              "    <tr>\n",
              "      <th>2020-06-12</th>\n",
              "      <td>84.699997</td>\n",
              "      <td>-0.9998</td>\n",
              "      <td>0.137</td>\n",
              "      <td>0.784</td>\n",
              "      <td>0.080</td>\n",
              "      <td>86.180000</td>\n",
              "      <td>86.949997</td>\n",
              "      <td>83.555000</td>\n",
              "      <td>200146000.0</td>\n",
              "    </tr>\n",
              "  </tbody>\n",
              "</table>\n",
              "</div>"
            ],
            "text/plain": [
              "                Close  compound  negative  ...       High        Low       Volume\n",
              "2020-06-08  83.364998   -0.9996     0.127  ...  83.400002  81.830002   95654400.0\n",
              "2020-06-09  85.997498   -0.9997     0.115  ...  86.402496  83.002502  147712400.0\n",
              "2020-06-10  88.209999   -0.9997     0.143  ...  88.692497  86.522499  166651600.0\n",
              "2020-06-11  83.974998   -0.9986     0.082  ...  87.764999  83.870003  201662400.0\n",
              "2020-06-12  84.699997   -0.9998     0.137  ...  86.949997  83.555000  200146000.0\n",
              "\n",
              "[5 rows x 9 columns]"
            ]
          },
          "metadata": {
            "tags": []
          },
          "execution_count": 177
        }
      ]
    },
    {
      "cell_type": "code",
      "metadata": {
        "id": "zxzDbZnM0_8P"
      },
      "source": [
        "# writing the prepared stock_data to disk\n",
        "stock_data.to_csv('/content/drive/MyDrive/TheSparkFoundation/stock_datafinal.csv')"
      ],
      "execution_count": null,
      "outputs": []
    },
    {
      "cell_type": "markdown",
      "metadata": {
        "id": "CSet1F-e1VI5"
      },
      "source": [
        "##**Step 4 : Reading Stock Data**"
      ]
    },
    {
      "cell_type": "code",
      "metadata": {
        "colab": {
          "base_uri": "https://localhost:8080/",
          "height": 234
        },
        "id": "HkW4Ly8N1TDw",
        "outputId": "17d3340a-8773-4fd1-856d-844d71928b82"
      },
      "source": [
        "# re-reading the stock_data into pandas dataframe\n",
        "stock_data = pd.read_csv('/content/drive/MyDrive/TheSparkFoundation/stock_datafinal.csv', index_col = False)\n",
        "\n",
        "# renaming the column\n",
        "stock_data.rename(columns={'Unnamed: 0':'Date'}, inplace = True)\n",
        "\n",
        "# setting the column 'Date' as the index column\n",
        "stock_data.set_index('Date', inplace=True)\n",
        "\n",
        "# displaying the stock_data\n",
        "stock_data.head()"
      ],
      "execution_count": null,
      "outputs": [
        {
          "output_type": "execute_result",
          "data": {
            "text/html": [
              "<div>\n",
              "<style scoped>\n",
              "    .dataframe tbody tr th:only-of-type {\n",
              "        vertical-align: middle;\n",
              "    }\n",
              "\n",
              "    .dataframe tbody tr th {\n",
              "        vertical-align: top;\n",
              "    }\n",
              "\n",
              "    .dataframe thead th {\n",
              "        text-align: right;\n",
              "    }\n",
              "</style>\n",
              "<table border=\"1\" class=\"dataframe\">\n",
              "  <thead>\n",
              "    <tr style=\"text-align: right;\">\n",
              "      <th></th>\n",
              "      <th>Close</th>\n",
              "      <th>compound</th>\n",
              "      <th>negative</th>\n",
              "      <th>neutral</th>\n",
              "      <th>positive</th>\n",
              "      <th>Open</th>\n",
              "      <th>High</th>\n",
              "      <th>Low</th>\n",
              "      <th>Volume</th>\n",
              "    </tr>\n",
              "    <tr>\n",
              "      <th>Date</th>\n",
              "      <th></th>\n",
              "      <th></th>\n",
              "      <th></th>\n",
              "      <th></th>\n",
              "      <th></th>\n",
              "      <th></th>\n",
              "      <th></th>\n",
              "      <th></th>\n",
              "      <th></th>\n",
              "    </tr>\n",
              "  </thead>\n",
              "  <tbody>\n",
              "    <tr>\n",
              "      <th>2020-06-08</th>\n",
              "      <td>83.364998</td>\n",
              "      <td>-0.9996</td>\n",
              "      <td>0.127</td>\n",
              "      <td>0.785</td>\n",
              "      <td>0.087</td>\n",
              "      <td>82.562500</td>\n",
              "      <td>83.400002</td>\n",
              "      <td>81.830002</td>\n",
              "      <td>95654400.0</td>\n",
              "    </tr>\n",
              "    <tr>\n",
              "      <th>2020-06-09</th>\n",
              "      <td>85.997498</td>\n",
              "      <td>-0.9997</td>\n",
              "      <td>0.115</td>\n",
              "      <td>0.816</td>\n",
              "      <td>0.069</td>\n",
              "      <td>83.035004</td>\n",
              "      <td>86.402496</td>\n",
              "      <td>83.002502</td>\n",
              "      <td>147712400.0</td>\n",
              "    </tr>\n",
              "    <tr>\n",
              "      <th>2020-06-10</th>\n",
              "      <td>88.209999</td>\n",
              "      <td>-0.9997</td>\n",
              "      <td>0.143</td>\n",
              "      <td>0.753</td>\n",
              "      <td>0.104</td>\n",
              "      <td>86.974998</td>\n",
              "      <td>88.692497</td>\n",
              "      <td>86.522499</td>\n",
              "      <td>166651600.0</td>\n",
              "    </tr>\n",
              "    <tr>\n",
              "      <th>2020-06-11</th>\n",
              "      <td>83.974998</td>\n",
              "      <td>-0.9986</td>\n",
              "      <td>0.082</td>\n",
              "      <td>0.867</td>\n",
              "      <td>0.051</td>\n",
              "      <td>87.327499</td>\n",
              "      <td>87.764999</td>\n",
              "      <td>83.870003</td>\n",
              "      <td>201662400.0</td>\n",
              "    </tr>\n",
              "    <tr>\n",
              "      <th>2020-06-12</th>\n",
              "      <td>84.699997</td>\n",
              "      <td>-0.9998</td>\n",
              "      <td>0.137</td>\n",
              "      <td>0.784</td>\n",
              "      <td>0.080</td>\n",
              "      <td>86.180000</td>\n",
              "      <td>86.949997</td>\n",
              "      <td>83.555000</td>\n",
              "      <td>200146000.0</td>\n",
              "    </tr>\n",
              "  </tbody>\n",
              "</table>\n",
              "</div>"
            ],
            "text/plain": [
              "                Close  compound  negative  ...       High        Low       Volume\n",
              "Date                                       ...                                   \n",
              "2020-06-08  83.364998   -0.9996     0.127  ...  83.400002  81.830002   95654400.0\n",
              "2020-06-09  85.997498   -0.9997     0.115  ...  86.402496  83.002502  147712400.0\n",
              "2020-06-10  88.209999   -0.9997     0.143  ...  88.692497  86.522499  166651600.0\n",
              "2020-06-11  83.974998   -0.9986     0.082  ...  87.764999  83.870003  201662400.0\n",
              "2020-06-12  84.699997   -0.9998     0.137  ...  86.949997  83.555000  200146000.0\n",
              "\n",
              "[5 rows x 9 columns]"
            ]
          },
          "metadata": {
            "tags": []
          },
          "execution_count": 216
        }
      ]
    },
    {
      "cell_type": "markdown",
      "metadata": {
        "id": "qi7tfkZM1hXz"
      },
      "source": [
        "##**Step 5 : Feature Engineering of Stock Data**"
      ]
    },
    {
      "cell_type": "code",
      "metadata": {
        "colab": {
          "base_uri": "https://localhost:8080/"
        },
        "id": "PTLZnXJR1epg",
        "outputId": "e549d604-c2a9-4610-f1c4-93233a3baa35"
      },
      "source": [
        "# displaying the shape i.e. number of rows and columns of stock_data\n",
        "stock_data.shape\n"
      ],
      "execution_count": null,
      "outputs": [
        {
          "output_type": "execute_result",
          "data": {
            "text/plain": [
              "(145, 9)"
            ]
          },
          "metadata": {
            "tags": []
          },
          "execution_count": 217
        }
      ]
    },
    {
      "cell_type": "code",
      "metadata": {
        "colab": {
          "base_uri": "https://localhost:8080/"
        },
        "id": "2YZEQo9E1mxh",
        "outputId": "ba5584f5-6733-4851-dac2-189975f22f6c"
      },
      "source": [
        "\n",
        "# checking for null values\n",
        "stock_data.isna().any()"
      ],
      "execution_count": null,
      "outputs": [
        {
          "output_type": "execute_result",
          "data": {
            "text/plain": [
              "Close       False\n",
              "compound    False\n",
              "negative    False\n",
              "neutral     False\n",
              "positive    False\n",
              "Open        False\n",
              "High        False\n",
              "Low         False\n",
              "Volume      False\n",
              "dtype: bool"
            ]
          },
          "metadata": {
            "tags": []
          },
          "execution_count": 218
        }
      ]
    },
    {
      "cell_type": "code",
      "metadata": {
        "colab": {
          "base_uri": "https://localhost:8080/",
          "height": 295
        },
        "id": "wckE-H_71oxr",
        "outputId": "f6976e65-204b-43a5-9735-f7be5e6eca99"
      },
      "source": [
        "# displaying stock_data statistics\n",
        "stock_data.describe(include='all')"
      ],
      "execution_count": null,
      "outputs": [
        {
          "output_type": "execute_result",
          "data": {
            "text/html": [
              "<div>\n",
              "<style scoped>\n",
              "    .dataframe tbody tr th:only-of-type {\n",
              "        vertical-align: middle;\n",
              "    }\n",
              "\n",
              "    .dataframe tbody tr th {\n",
              "        vertical-align: top;\n",
              "    }\n",
              "\n",
              "    .dataframe thead th {\n",
              "        text-align: right;\n",
              "    }\n",
              "</style>\n",
              "<table border=\"1\" class=\"dataframe\">\n",
              "  <thead>\n",
              "    <tr style=\"text-align: right;\">\n",
              "      <th></th>\n",
              "      <th>Close</th>\n",
              "      <th>compound</th>\n",
              "      <th>negative</th>\n",
              "      <th>neutral</th>\n",
              "      <th>positive</th>\n",
              "      <th>Open</th>\n",
              "      <th>High</th>\n",
              "      <th>Low</th>\n",
              "      <th>Volume</th>\n",
              "    </tr>\n",
              "  </thead>\n",
              "  <tbody>\n",
              "    <tr>\n",
              "      <th>count</th>\n",
              "      <td>145.000000</td>\n",
              "      <td>145.000000</td>\n",
              "      <td>145.000000</td>\n",
              "      <td>145.000000</td>\n",
              "      <td>145.000000</td>\n",
              "      <td>145.000000</td>\n",
              "      <td>145.000000</td>\n",
              "      <td>145.000000</td>\n",
              "      <td>1.450000e+02</td>\n",
              "    </tr>\n",
              "    <tr>\n",
              "      <th>mean</th>\n",
              "      <td>111.567482</td>\n",
              "      <td>-0.985808</td>\n",
              "      <td>0.124510</td>\n",
              "      <td>0.799103</td>\n",
              "      <td>0.076434</td>\n",
              "      <td>111.620793</td>\n",
              "      <td>113.124172</td>\n",
              "      <td>109.931086</td>\n",
              "      <td>1.452494e+08</td>\n",
              "    </tr>\n",
              "    <tr>\n",
              "      <th>std</th>\n",
              "      <td>13.339001</td>\n",
              "      <td>0.165874</td>\n",
              "      <td>0.017813</td>\n",
              "      <td>0.025637</td>\n",
              "      <td>0.012282</td>\n",
              "      <td>13.545061</td>\n",
              "      <td>13.616901</td>\n",
              "      <td>13.152911</td>\n",
              "      <td>5.959814e+07</td>\n",
              "    </tr>\n",
              "    <tr>\n",
              "      <th>min</th>\n",
              "      <td>83.364998</td>\n",
              "      <td>-0.999900</td>\n",
              "      <td>0.080000</td>\n",
              "      <td>0.743000</td>\n",
              "      <td>0.044000</td>\n",
              "      <td>82.562500</td>\n",
              "      <td>83.400002</td>\n",
              "      <td>81.830002</td>\n",
              "      <td>4.669130e+07</td>\n",
              "    </tr>\n",
              "    <tr>\n",
              "      <th>25%</th>\n",
              "      <td>97.724998</td>\n",
              "      <td>-0.999800</td>\n",
              "      <td>0.113000</td>\n",
              "      <td>0.783000</td>\n",
              "      <td>0.068000</td>\n",
              "      <td>98.989998</td>\n",
              "      <td>99.250000</td>\n",
              "      <td>96.602501</td>\n",
              "      <td>1.019880e+08</td>\n",
              "    </tr>\n",
              "    <tr>\n",
              "      <th>50%</th>\n",
              "      <td>115.040001</td>\n",
              "      <td>-0.999700</td>\n",
              "      <td>0.125000</td>\n",
              "      <td>0.796000</td>\n",
              "      <td>0.077000</td>\n",
              "      <td>115.010002</td>\n",
              "      <td>116.400002</td>\n",
              "      <td>113.550003</td>\n",
              "      <td>1.306460e+08</td>\n",
              "    </tr>\n",
              "    <tr>\n",
              "      <th>75%</th>\n",
              "      <td>120.709999</td>\n",
              "      <td>-0.999500</td>\n",
              "      <td>0.136000</td>\n",
              "      <td>0.818000</td>\n",
              "      <td>0.083000</td>\n",
              "      <td>120.070000</td>\n",
              "      <td>121.989998</td>\n",
              "      <td>118.809998</td>\n",
              "      <td>1.769405e+08</td>\n",
              "    </tr>\n",
              "    <tr>\n",
              "      <th>max</th>\n",
              "      <td>136.690002</td>\n",
              "      <td>0.997800</td>\n",
              "      <td>0.169000</td>\n",
              "      <td>0.867000</td>\n",
              "      <td>0.126000</td>\n",
              "      <td>138.050003</td>\n",
              "      <td>138.789993</td>\n",
              "      <td>134.339996</td>\n",
              "      <td>3.743368e+08</td>\n",
              "    </tr>\n",
              "  </tbody>\n",
              "</table>\n",
              "</div>"
            ],
            "text/plain": [
              "            Close    compound    negative  ...        High         Low        Volume\n",
              "count  145.000000  145.000000  145.000000  ...  145.000000  145.000000  1.450000e+02\n",
              "mean   111.567482   -0.985808    0.124510  ...  113.124172  109.931086  1.452494e+08\n",
              "std     13.339001    0.165874    0.017813  ...   13.616901   13.152911  5.959814e+07\n",
              "min     83.364998   -0.999900    0.080000  ...   83.400002   81.830002  4.669130e+07\n",
              "25%     97.724998   -0.999800    0.113000  ...   99.250000   96.602501  1.019880e+08\n",
              "50%    115.040001   -0.999700    0.125000  ...  116.400002  113.550003  1.306460e+08\n",
              "75%    120.709999   -0.999500    0.136000  ...  121.989998  118.809998  1.769405e+08\n",
              "max    136.690002    0.997800    0.169000  ...  138.789993  134.339996  3.743368e+08\n",
              "\n",
              "[8 rows x 9 columns]"
            ]
          },
          "metadata": {
            "tags": []
          },
          "execution_count": 219
        }
      ]
    },
    {
      "cell_type": "code",
      "metadata": {
        "colab": {
          "base_uri": "https://localhost:8080/"
        },
        "id": "Y034eDLP1rFy",
        "outputId": "ab3e3d98-c90e-4b0e-f1a1-06fbb787c1a8"
      },
      "source": [
        "# displaying stock_data information\n",
        "stock_data.info()"
      ],
      "execution_count": null,
      "outputs": [
        {
          "output_type": "stream",
          "text": [
            "<class 'pandas.core.frame.DataFrame'>\n",
            "Index: 145 entries, 2020-06-08 to 2020-12-31\n",
            "Data columns (total 9 columns):\n",
            " #   Column    Non-Null Count  Dtype  \n",
            "---  ------    --------------  -----  \n",
            " 0   Close     145 non-null    float64\n",
            " 1   compound  145 non-null    float64\n",
            " 2   negative  145 non-null    float64\n",
            " 3   neutral   145 non-null    float64\n",
            " 4   positive  145 non-null    float64\n",
            " 5   Open      145 non-null    float64\n",
            " 6   High      145 non-null    float64\n",
            " 7   Low       145 non-null    float64\n",
            " 8   Volume    145 non-null    float64\n",
            "dtypes: float64(9)\n",
            "memory usage: 11.3+ KB\n"
          ],
          "name": "stdout"
        }
      ]
    },
    {
      "cell_type": "markdown",
      "metadata": {
        "id": "dbDVEuqo1y4L"
      },
      "source": [
        "##**Step 6 : EDA of Stock Data**"
      ]
    },
    {
      "cell_type": "code",
      "metadata": {
        "colab": {
          "base_uri": "https://localhost:8080/",
          "height": 638
        },
        "id": "3M3DOQkU1s7p",
        "outputId": "3d798ac3-5713-4d0f-a68d-125658f30007"
      },
      "source": [
        "# setting figure size\n",
        "plt.figure(figsize=(16,10))\n",
        "\n",
        "# plotting close price\n",
        "stock_data['Close'].plot()\n",
        "\n",
        "# setting plot title, x and y labels\n",
        "plt.title(\"Close Price\")\n",
        "plt.xlabel('Date')\n",
        "plt.ylabel('Close Price ($)')"
      ],
      "execution_count": null,
      "outputs": [
        {
          "output_type": "execute_result",
          "data": {
            "text/plain": [
              "Text(0, 0.5, 'Close Price ($)')"
            ]
          },
          "metadata": {
            "tags": []
          },
          "execution_count": 221
        },
        {
          "output_type": "display_data",
          "data": {
            "image/png": "[encoded data removed]",
            "text/plain": [
              "<Figure size 1152x720 with 1 Axes>"
            ]
          },
          "metadata": {
            "tags": [],
            "needs_background": "light"
          }
        }
      ]
    },
    {
      "cell_type": "code",
      "metadata": {
        "colab": {
          "base_uri": "https://localhost:8080/",
          "height": 696
        },
        "id": "L9Kn-Vbl1ve3",
        "outputId": "5ea84519-32bd-4ba1-8137-f79b7efaf471"
      },
      "source": [
        "# calculating 7 day rolling mean\n",
        "stock_data.rolling(7).mean().head(20)\n"
      ],
      "execution_count": null,
      "outputs": [
        {
          "output_type": "execute_result",
          "data": {
            "text/html": [
              "<div>\n",
              "<style scoped>\n",
              "    .dataframe tbody tr th:only-of-type {\n",
              "        vertical-align: middle;\n",
              "    }\n",
              "\n",
              "    .dataframe tbody tr th {\n",
              "        vertical-align: top;\n",
              "    }\n",
              "\n",
              "    .dataframe thead th {\n",
              "        text-align: right;\n",
              "    }\n",
              "</style>\n",
              "<table border=\"1\" class=\"dataframe\">\n",
              "  <thead>\n",
              "    <tr style=\"text-align: right;\">\n",
              "      <th></th>\n",
              "      <th>Close</th>\n",
              "      <th>compound</th>\n",
              "      <th>negative</th>\n",
              "      <th>neutral</th>\n",
              "      <th>positive</th>\n",
              "      <th>Open</th>\n",
              "      <th>High</th>\n",
              "      <th>Low</th>\n",
              "      <th>Volume</th>\n",
              "    </tr>\n",
              "    <tr>\n",
              "      <th>Date</th>\n",
              "      <th></th>\n",
              "      <th></th>\n",
              "      <th></th>\n",
              "      <th></th>\n",
              "      <th></th>\n",
              "      <th></th>\n",
              "      <th></th>\n",
              "      <th></th>\n",
              "      <th></th>\n",
              "    </tr>\n",
              "  </thead>\n",
              "  <tbody>\n",
              "    <tr>\n",
              "      <th>2020-06-08</th>\n",
              "      <td>NaN</td>\n",
              "      <td>NaN</td>\n",
              "      <td>NaN</td>\n",
              "      <td>NaN</td>\n",
              "      <td>NaN</td>\n",
              "      <td>NaN</td>\n",
              "      <td>NaN</td>\n",
              "      <td>NaN</td>\n",
              "      <td>NaN</td>\n",
              "    </tr>\n",
              "    <tr>\n",
              "      <th>2020-06-09</th>\n",
              "      <td>NaN</td>\n",
              "      <td>NaN</td>\n",
              "      <td>NaN</td>\n",
              "      <td>NaN</td>\n",
              "      <td>NaN</td>\n",
              "      <td>NaN</td>\n",
              "      <td>NaN</td>\n",
              "      <td>NaN</td>\n",
              "      <td>NaN</td>\n",
              "    </tr>\n",
              "    <tr>\n",
              "      <th>2020-06-10</th>\n",
              "      <td>NaN</td>\n",
              "      <td>NaN</td>\n",
              "      <td>NaN</td>\n",
              "      <td>NaN</td>\n",
              "      <td>NaN</td>\n",
              "      <td>NaN</td>\n",
              "      <td>NaN</td>\n",
              "      <td>NaN</td>\n",
              "      <td>NaN</td>\n",
              "    </tr>\n",
              "    <tr>\n",
              "      <th>2020-06-11</th>\n",
              "      <td>NaN</td>\n",
              "      <td>NaN</td>\n",
              "      <td>NaN</td>\n",
              "      <td>NaN</td>\n",
              "      <td>NaN</td>\n",
              "      <td>NaN</td>\n",
              "      <td>NaN</td>\n",
              "      <td>NaN</td>\n",
              "      <td>NaN</td>\n",
              "    </tr>\n",
              "    <tr>\n",
              "      <th>2020-06-12</th>\n",
              "      <td>NaN</td>\n",
              "      <td>NaN</td>\n",
              "      <td>NaN</td>\n",
              "      <td>NaN</td>\n",
              "      <td>NaN</td>\n",
              "      <td>NaN</td>\n",
              "      <td>NaN</td>\n",
              "      <td>NaN</td>\n",
              "      <td>NaN</td>\n",
              "    </tr>\n",
              "    <tr>\n",
              "      <th>2020-06-15</th>\n",
              "      <td>NaN</td>\n",
              "      <td>NaN</td>\n",
              "      <td>NaN</td>\n",
              "      <td>NaN</td>\n",
              "      <td>NaN</td>\n",
              "      <td>NaN</td>\n",
              "      <td>NaN</td>\n",
              "      <td>NaN</td>\n",
              "      <td>NaN</td>\n",
              "    </tr>\n",
              "    <tr>\n",
              "      <th>2020-06-16</th>\n",
              "      <td>85.716426</td>\n",
              "      <td>-0.999557</td>\n",
              "      <td>0.122000</td>\n",
              "      <td>0.799571</td>\n",
              "      <td>0.078429</td>\n",
              "      <td>85.322500</td>\n",
              "      <td>86.847142</td>\n",
              "      <td>84.015000</td>\n",
              "      <td>1.594378e+08</td>\n",
              "    </tr>\n",
              "    <tr>\n",
              "      <th>2020-06-17</th>\n",
              "      <td>86.363927</td>\n",
              "      <td>-0.999429</td>\n",
              "      <td>0.119286</td>\n",
              "      <td>0.802571</td>\n",
              "      <td>0.078143</td>\n",
              "      <td>86.211785</td>\n",
              "      <td>87.625713</td>\n",
              "      <td>84.863929</td>\n",
              "      <td>1.621166e+08</td>\n",
              "    </tr>\n",
              "    <tr>\n",
              "      <th>2020-06-18</th>\n",
              "      <td>86.640356</td>\n",
              "      <td>-0.999429</td>\n",
              "      <td>0.121000</td>\n",
              "      <td>0.799429</td>\n",
              "      <td>0.079571</td>\n",
              "      <td>86.899999</td>\n",
              "      <td>87.905714</td>\n",
              "      <td>85.478571</td>\n",
              "      <td>1.548463e+08</td>\n",
              "    </tr>\n",
              "    <tr>\n",
              "      <th>2020-06-19</th>\n",
              "      <td>86.528927</td>\n",
              "      <td>-0.999443</td>\n",
              "      <td>0.119857</td>\n",
              "      <td>0.803714</td>\n",
              "      <td>0.076429</td>\n",
              "      <td>87.140714</td>\n",
              "      <td>87.969642</td>\n",
              "      <td>85.445000</td>\n",
              "      <td>1.688213e+08</td>\n",
              "    </tr>\n",
              "    <tr>\n",
              "      <th>2020-06-22</th>\n",
              "      <td>87.349285</td>\n",
              "      <td>-0.999586</td>\n",
              "      <td>0.125286</td>\n",
              "      <td>0.794429</td>\n",
              "      <td>0.080429</td>\n",
              "      <td>87.213214</td>\n",
              "      <td>88.269642</td>\n",
              "      <td>86.004642</td>\n",
              "      <td>1.593617e+08</td>\n",
              "    </tr>\n",
              "    <tr>\n",
              "      <th>2020-06-23</th>\n",
              "      <td>88.339642</td>\n",
              "      <td>-0.999600</td>\n",
              "      <td>0.125857</td>\n",
              "      <td>0.794857</td>\n",
              "      <td>0.079286</td>\n",
              "      <td>87.901786</td>\n",
              "      <td>89.147500</td>\n",
              "      <td>87.006427</td>\n",
              "      <td>1.610773e+08</td>\n",
              "    </tr>\n",
              "    <tr>\n",
              "      <th>2020-06-24</th>\n",
              "      <td>88.949285</td>\n",
              "      <td>-0.999600</td>\n",
              "      <td>0.126143</td>\n",
              "      <td>0.793714</td>\n",
              "      <td>0.080143</td>\n",
              "      <td>89.035714</td>\n",
              "      <td>89.972858</td>\n",
              "      <td>87.932856</td>\n",
              "      <td>1.687651e+08</td>\n",
              "    </tr>\n",
              "    <tr>\n",
              "      <th>2020-06-25</th>\n",
              "      <td>89.405000</td>\n",
              "      <td>-0.999614</td>\n",
              "      <td>0.124571</td>\n",
              "      <td>0.800571</td>\n",
              "      <td>0.074857</td>\n",
              "      <td>89.365715</td>\n",
              "      <td>90.394286</td>\n",
              "      <td>88.391784</td>\n",
              "      <td>1.647785e+08</td>\n",
              "    </tr>\n",
              "    <tr>\n",
              "      <th>2020-06-26</th>\n",
              "      <td>89.477857</td>\n",
              "      <td>-0.999786</td>\n",
              "      <td>0.130429</td>\n",
              "      <td>0.794857</td>\n",
              "      <td>0.074857</td>\n",
              "      <td>89.696430</td>\n",
              "      <td>90.748572</td>\n",
              "      <td>88.460713</td>\n",
              "      <td>1.777571e+08</td>\n",
              "    </tr>\n",
              "    <tr>\n",
              "      <th>2020-06-29</th>\n",
              "      <td>89.836785</td>\n",
              "      <td>-0.999786</td>\n",
              "      <td>0.129714</td>\n",
              "      <td>0.796286</td>\n",
              "      <td>0.074286</td>\n",
              "      <td>89.762144</td>\n",
              "      <td>91.060001</td>\n",
              "      <td>88.534284</td>\n",
              "      <td>1.825893e+08</td>\n",
              "    </tr>\n",
              "    <tr>\n",
              "      <th>2020-06-30</th>\n",
              "      <td>90.375356</td>\n",
              "      <td>-0.999786</td>\n",
              "      <td>0.127286</td>\n",
              "      <td>0.801571</td>\n",
              "      <td>0.071429</td>\n",
              "      <td>89.956429</td>\n",
              "      <td>91.396430</td>\n",
              "      <td>89.064642</td>\n",
              "      <td>1.648389e+08</td>\n",
              "    </tr>\n",
              "    <tr>\n",
              "      <th>2020-07-01</th>\n",
              "      <td>90.562499</td>\n",
              "      <td>-0.999814</td>\n",
              "      <td>0.130286</td>\n",
              "      <td>0.796429</td>\n",
              "      <td>0.073429</td>\n",
              "      <td>90.448571</td>\n",
              "      <td>91.678572</td>\n",
              "      <td>89.520356</td>\n",
              "      <td>1.613092e+08</td>\n",
              "    </tr>\n",
              "    <tr>\n",
              "      <th>2020-07-02</th>\n",
              "      <td>90.476070</td>\n",
              "      <td>-0.999629</td>\n",
              "      <td>0.124857</td>\n",
              "      <td>0.800857</td>\n",
              "      <td>0.074429</td>\n",
              "      <td>90.586072</td>\n",
              "      <td>91.610358</td>\n",
              "      <td>89.569286</td>\n",
              "      <td>1.472929e+08</td>\n",
              "    </tr>\n",
              "    <tr>\n",
              "      <th>2020-07-06</th>\n",
              "      <td>90.968570</td>\n",
              "      <td>-0.999600</td>\n",
              "      <td>0.124286</td>\n",
              "      <td>0.800714</td>\n",
              "      <td>0.075143</td>\n",
              "      <td>90.764643</td>\n",
              "      <td>91.860001</td>\n",
              "      <td>89.974643</td>\n",
              "      <td>1.367261e+08</td>\n",
              "    </tr>\n",
              "  </tbody>\n",
              "</table>\n",
              "</div>"
            ],
            "text/plain": [
              "                Close  compound  negative  ...       High        Low        Volume\n",
              "Date                                       ...                                    \n",
              "2020-06-08        NaN       NaN       NaN  ...        NaN        NaN           NaN\n",
              "2020-06-09        NaN       NaN       NaN  ...        NaN        NaN           NaN\n",
              "2020-06-10        NaN       NaN       NaN  ...        NaN        NaN           NaN\n",
              "2020-06-11        NaN       NaN       NaN  ...        NaN        NaN           NaN\n",
              "2020-06-12        NaN       NaN       NaN  ...        NaN        NaN           NaN\n",
              "2020-06-15        NaN       NaN       NaN  ...        NaN        NaN           NaN\n",
              "2020-06-16  85.716426 -0.999557  0.122000  ...  86.847142  84.015000  1.594378e+08\n",
              "2020-06-17  86.363927 -0.999429  0.119286  ...  87.625713  84.863929  1.621166e+08\n",
              "2020-06-18  86.640356 -0.999429  0.121000  ...  87.905714  85.478571  1.548463e+08\n",
              "2020-06-19  86.528927 -0.999443  0.119857  ...  87.969642  85.445000  1.688213e+08\n",
              "2020-06-22  87.349285 -0.999586  0.125286  ...  88.269642  86.004642  1.593617e+08\n",
              "2020-06-23  88.339642 -0.999600  0.125857  ...  89.147500  87.006427  1.610773e+08\n",
              "2020-06-24  88.949285 -0.999600  0.126143  ...  89.972858  87.932856  1.687651e+08\n",
              "2020-06-25  89.405000 -0.999614  0.124571  ...  90.394286  88.391784  1.647785e+08\n",
              "2020-06-26  89.477857 -0.999786  0.130429  ...  90.748572  88.460713  1.777571e+08\n",
              "2020-06-29  89.836785 -0.999786  0.129714  ...  91.060001  88.534284  1.825893e+08\n",
              "2020-06-30  90.375356 -0.999786  0.127286  ...  91.396430  89.064642  1.648389e+08\n",
              "2020-07-01  90.562499 -0.999814  0.130286  ...  91.678572  89.520356  1.613092e+08\n",
              "2020-07-02  90.476070 -0.999629  0.124857  ...  91.610358  89.569286  1.472929e+08\n",
              "2020-07-06  90.968570 -0.999600  0.124286  ...  91.860001  89.974643  1.367261e+08\n",
              "\n",
              "[20 rows x 9 columns]"
            ]
          },
          "metadata": {
            "tags": []
          },
          "execution_count": 222
        }
      ]
    },
    {
      "cell_type": "code",
      "metadata": {
        "colab": {
          "base_uri": "https://localhost:8080/",
          "height": 624
        },
        "id": "7OmNmcw516FT",
        "outputId": "7dca1f2a-bb96-43c1-a8ce-e46b63bffdb9"
      },
      "source": [
        "# setting figure size\n",
        "plt.figure(figsize=(16,10))\n",
        "\n",
        "# plotting the close price and a 30-day rolling mean of close price\n",
        "stock_data['Close'].plot()\n",
        "stock_data.rolling(window=30).mean()['Close'].plot()"
      ],
      "execution_count": null,
      "outputs": [
        {
          "output_type": "execute_result",
          "data": {
            "text/plain": [
              "<matplotlib.axes._subplots.AxesSubplot at 0x7fa9ed2179d0>"
            ]
          },
          "metadata": {
            "tags": []
          },
          "execution_count": 223
        },
        {
          "output_type": "display_data",
          "data": {
            "image/png": "[encoded data removed]",
            "text/plain": [
              "<Figure size 1152x720 with 1 Axes>"
            ]
          },
          "metadata": {
            "tags": [],
            "needs_background": "light"
          }
        }
      ]
    },
    {
      "cell_type": "code",
      "metadata": {
        "colab": {
          "base_uri": "https://localhost:8080/",
          "height": 447
        },
        "id": "J9_SEZy118_4",
        "outputId": "42b12ed8-62b9-4b55-f137-a03f8dcd06df"
      },
      "source": [
        "# displaying stock_data\n",
        "stock_data"
      ],
      "execution_count": null,
      "outputs": [
        {
          "output_type": "execute_result",
          "data": {
            "text/html": [
              "<div>\n",
              "<style scoped>\n",
              "    .dataframe tbody tr th:only-of-type {\n",
              "        vertical-align: middle;\n",
              "    }\n",
              "\n",
              "    .dataframe tbody tr th {\n",
              "        vertical-align: top;\n",
              "    }\n",
              "\n",
              "    .dataframe thead th {\n",
              "        text-align: right;\n",
              "    }\n",
              "</style>\n",
              "<table border=\"1\" class=\"dataframe\">\n",
              "  <thead>\n",
              "    <tr style=\"text-align: right;\">\n",
              "      <th></th>\n",
              "      <th>Close</th>\n",
              "      <th>compound</th>\n",
              "      <th>negative</th>\n",
              "      <th>neutral</th>\n",
              "      <th>positive</th>\n",
              "      <th>Open</th>\n",
              "      <th>High</th>\n",
              "      <th>Low</th>\n",
              "      <th>Volume</th>\n",
              "    </tr>\n",
              "    <tr>\n",
              "      <th>Date</th>\n",
              "      <th></th>\n",
              "      <th></th>\n",
              "      <th></th>\n",
              "      <th></th>\n",
              "      <th></th>\n",
              "      <th></th>\n",
              "      <th></th>\n",
              "      <th></th>\n",
              "      <th></th>\n",
              "    </tr>\n",
              "  </thead>\n",
              "  <tbody>\n",
              "    <tr>\n",
              "      <th>2020-06-08</th>\n",
              "      <td>83.364998</td>\n",
              "      <td>-0.9996</td>\n",
              "      <td>0.127</td>\n",
              "      <td>0.785</td>\n",
              "      <td>0.087</td>\n",
              "      <td>82.562500</td>\n",
              "      <td>83.400002</td>\n",
              "      <td>81.830002</td>\n",
              "      <td>95654400.0</td>\n",
              "    </tr>\n",
              "    <tr>\n",
              "      <th>2020-06-09</th>\n",
              "      <td>85.997498</td>\n",
              "      <td>-0.9997</td>\n",
              "      <td>0.115</td>\n",
              "      <td>0.816</td>\n",
              "      <td>0.069</td>\n",
              "      <td>83.035004</td>\n",
              "      <td>86.402496</td>\n",
              "      <td>83.002502</td>\n",
              "      <td>147712400.0</td>\n",
              "    </tr>\n",
              "    <tr>\n",
              "      <th>2020-06-10</th>\n",
              "      <td>88.209999</td>\n",
              "      <td>-0.9997</td>\n",
              "      <td>0.143</td>\n",
              "      <td>0.753</td>\n",
              "      <td>0.104</td>\n",
              "      <td>86.974998</td>\n",
              "      <td>88.692497</td>\n",
              "      <td>86.522499</td>\n",
              "      <td>166651600.0</td>\n",
              "    </tr>\n",
              "    <tr>\n",
              "      <th>2020-06-11</th>\n",
              "      <td>83.974998</td>\n",
              "      <td>-0.9986</td>\n",
              "      <td>0.082</td>\n",
              "      <td>0.867</td>\n",
              "      <td>0.051</td>\n",
              "      <td>87.327499</td>\n",
              "      <td>87.764999</td>\n",
              "      <td>83.870003</td>\n",
              "      <td>201662400.0</td>\n",
              "    </tr>\n",
              "    <tr>\n",
              "      <th>2020-06-12</th>\n",
              "      <td>84.699997</td>\n",
              "      <td>-0.9998</td>\n",
              "      <td>0.137</td>\n",
              "      <td>0.784</td>\n",
              "      <td>0.080</td>\n",
              "      <td>86.180000</td>\n",
              "      <td>86.949997</td>\n",
              "      <td>83.555000</td>\n",
              "      <td>200146000.0</td>\n",
              "    </tr>\n",
              "    <tr>\n",
              "      <th>...</th>\n",
              "      <td>...</td>\n",
              "      <td>...</td>\n",
              "      <td>...</td>\n",
              "      <td>...</td>\n",
              "      <td>...</td>\n",
              "      <td>...</td>\n",
              "      <td>...</td>\n",
              "      <td>...</td>\n",
              "      <td>...</td>\n",
              "    </tr>\n",
              "    <tr>\n",
              "      <th>2020-12-24</th>\n",
              "      <td>131.970001</td>\n",
              "      <td>-0.9966</td>\n",
              "      <td>0.080</td>\n",
              "      <td>0.857</td>\n",
              "      <td>0.063</td>\n",
              "      <td>131.320007</td>\n",
              "      <td>133.460007</td>\n",
              "      <td>131.100006</td>\n",
              "      <td>54930100.0</td>\n",
              "    </tr>\n",
              "    <tr>\n",
              "      <th>2020-12-28</th>\n",
              "      <td>136.690002</td>\n",
              "      <td>-0.9997</td>\n",
              "      <td>0.125</td>\n",
              "      <td>0.792</td>\n",
              "      <td>0.083</td>\n",
              "      <td>133.990005</td>\n",
              "      <td>137.339996</td>\n",
              "      <td>133.509995</td>\n",
              "      <td>124486200.0</td>\n",
              "    </tr>\n",
              "    <tr>\n",
              "      <th>2020-12-29</th>\n",
              "      <td>134.869995</td>\n",
              "      <td>-0.9997</td>\n",
              "      <td>0.134</td>\n",
              "      <td>0.777</td>\n",
              "      <td>0.089</td>\n",
              "      <td>138.050003</td>\n",
              "      <td>138.789993</td>\n",
              "      <td>134.339996</td>\n",
              "      <td>121047300.0</td>\n",
              "    </tr>\n",
              "    <tr>\n",
              "      <th>2020-12-30</th>\n",
              "      <td>133.720001</td>\n",
              "      <td>-0.9997</td>\n",
              "      <td>0.122</td>\n",
              "      <td>0.802</td>\n",
              "      <td>0.076</td>\n",
              "      <td>135.580002</td>\n",
              "      <td>135.990005</td>\n",
              "      <td>133.399994</td>\n",
              "      <td>96452100.0</td>\n",
              "    </tr>\n",
              "    <tr>\n",
              "      <th>2020-12-31</th>\n",
              "      <td>132.690002</td>\n",
              "      <td>-0.9996</td>\n",
              "      <td>0.123</td>\n",
              "      <td>0.784</td>\n",
              "      <td>0.093</td>\n",
              "      <td>134.080002</td>\n",
              "      <td>134.740005</td>\n",
              "      <td>131.720001</td>\n",
              "      <td>99116600.0</td>\n",
              "    </tr>\n",
              "  </tbody>\n",
              "</table>\n",
              "<p>145 rows × 9 columns</p>\n",
              "</div>"
            ],
            "text/plain": [
              "                 Close  compound  negative  ...        High         Low       Volume\n",
              "Date                                        ...                                     \n",
              "2020-06-08   83.364998   -0.9996     0.127  ...   83.400002   81.830002   95654400.0\n",
              "2020-06-09   85.997498   -0.9997     0.115  ...   86.402496   83.002502  147712400.0\n",
              "2020-06-10   88.209999   -0.9997     0.143  ...   88.692497   86.522499  166651600.0\n",
              "2020-06-11   83.974998   -0.9986     0.082  ...   87.764999   83.870003  201662400.0\n",
              "2020-06-12   84.699997   -0.9998     0.137  ...   86.949997   83.555000  200146000.0\n",
              "...                ...       ...       ...  ...         ...         ...          ...\n",
              "2020-12-24  131.970001   -0.9966     0.080  ...  133.460007  131.100006   54930100.0\n",
              "2020-12-28  136.690002   -0.9997     0.125  ...  137.339996  133.509995  124486200.0\n",
              "2020-12-29  134.869995   -0.9997     0.134  ...  138.789993  134.339996  121047300.0\n",
              "2020-12-30  133.720001   -0.9997     0.122  ...  135.990005  133.399994   96452100.0\n",
              "2020-12-31  132.690002   -0.9996     0.123  ...  134.740005  131.720001   99116600.0\n",
              "\n",
              "[145 rows x 9 columns]"
            ]
          },
          "metadata": {
            "tags": []
          },
          "execution_count": 224
        }
      ]
    },
    {
      "cell_type": "markdown",
      "metadata": {
        "id": "ra1RIn4Y64JN"
      },
      "source": [
        "## **Step 7 : Data Preparation for Modelling**"
      ]
    },
    {
      "cell_type": "code",
      "metadata": {
        "colab": {
          "base_uri": "https://localhost:8080/"
        },
        "id": "Xyzlah8X2EDA",
        "outputId": "2c7dc20b-deca-467b-dde6-7225b7f32d48"
      },
      "source": [
        "# calculating data_to_use\n",
        "percentage_of_data = 1.0\n",
        "data_to_use = int(percentage_of_data*(len(stock_data)-1))\n",
        "\n",
        "# using 80% of data for training\n",
        "train_end = int(data_to_use*0.8)\n",
        "total_data = len(stock_data)\n",
        "start = total_data - data_to_use\n",
        "\n",
        "# printing number of records in the training and test datasets\n",
        "print(\"Number of records in Training Data:\", train_end)\n",
        "print(\"Number of records in Test Data:\", total_data - train_end)"
      ],
      "execution_count": null,
      "outputs": [
        {
          "output_type": "stream",
          "text": [
            "Number of records in Training Data: 115\n",
            "Number of records in Test Data: 30\n"
          ],
          "name": "stdout"
        }
      ]
    },
    {
      "cell_type": "code",
      "metadata": {
        "colab": {
          "base_uri": "https://localhost:8080/"
        },
        "id": "EnvXn36S7APb",
        "outputId": "391bb5cf-54d7-4c28-c3bd-951f3d2ffa55"
      },
      "source": [
        "# predicting one step ahead\n",
        "steps_to_predict = 1\n",
        "\n",
        "# capturing data to be used for each column\n",
        "close_price = stock_data.iloc[start:total_data,0] #close\n",
        "compound = stock_data.iloc[start:total_data,1] #compound\n",
        "negative = stock_data.iloc[start:total_data,2] #neg\n",
        "neutral = stock_data.iloc[start:total_data,3] #neu\n",
        "positive = stock_data.iloc[start:total_data,4] #pos\n",
        "open_price = stock_data.iloc[start:total_data,5] #open\n",
        "high = stock_data.iloc[start:total_data,6] #high\n",
        "low = stock_data.iloc[start:total_data,7] #low\n",
        "volume = stock_data.iloc[start:total_data,8] #volume\n",
        "\n",
        "# printing close price\n",
        "print(\"Close Price:\")\n",
        "close_price"
      ],
      "execution_count": null,
      "outputs": [
        {
          "output_type": "stream",
          "text": [
            "Close Price:\n"
          ],
          "name": "stdout"
        },
        {
          "output_type": "execute_result",
          "data": {
            "text/plain": [
              "Date\n",
              "2020-06-09     85.997498\n",
              "2020-06-10     88.209999\n",
              "2020-06-11     83.974998\n",
              "2020-06-12     84.699997\n",
              "2020-06-15     85.747498\n",
              "                 ...    \n",
              "2020-12-24    131.970001\n",
              "2020-12-28    136.690002\n",
              "2020-12-29    134.869995\n",
              "2020-12-30    133.720001\n",
              "2020-12-31    132.690002\n",
              "Name: Close, Length: 144, dtype: float64"
            ]
          },
          "metadata": {
            "tags": []
          },
          "execution_count": 226
        }
      ]
    },
    {
      "cell_type": "code",
      "metadata": {
        "colab": {
          "base_uri": "https://localhost:8080/",
          "height": 388
        },
        "id": "uCswvyyS7A3Q",
        "outputId": "e8b3fe8f-ecac-47f7-e2a2-758a19e2306f"
      },
      "source": [
        "# shifting next day close\n",
        "close_price_shifted = close_price.shift(-1) \n",
        "\n",
        "# shifting next day compound\n",
        "compound_shifted = compound.shift(-1) \n",
        "\n",
        "# concatenating the captured training data into a dataframe\n",
        "data = pd.concat([close_price, close_price_shifted, compound, compound_shifted, volume, open_price, high, low], axis=1)\n",
        "\n",
        "# setting column names of the revised stock data\n",
        "data.columns = ['close_price', 'close_price_shifted', 'compound', 'compound_shifted','volume', 'open_price', 'high', 'low']\n",
        "\n",
        "# dropping nulls\n",
        "data = data.dropna()    \n",
        "data.head(10)"
      ],
      "execution_count": null,
      "outputs": [
        {
          "output_type": "execute_result",
          "data": {
            "text/html": [
              "<div>\n",
              "<style scoped>\n",
              "    .dataframe tbody tr th:only-of-type {\n",
              "        vertical-align: middle;\n",
              "    }\n",
              "\n",
              "    .dataframe tbody tr th {\n",
              "        vertical-align: top;\n",
              "    }\n",
              "\n",
              "    .dataframe thead th {\n",
              "        text-align: right;\n",
              "    }\n",
              "</style>\n",
              "<table border=\"1\" class=\"dataframe\">\n",
              "  <thead>\n",
              "    <tr style=\"text-align: right;\">\n",
              "      <th></th>\n",
              "      <th>close_price</th>\n",
              "      <th>close_price_shifted</th>\n",
              "      <th>compound</th>\n",
              "      <th>compound_shifted</th>\n",
              "      <th>volume</th>\n",
              "      <th>open_price</th>\n",
              "      <th>high</th>\n",
              "      <th>low</th>\n",
              "    </tr>\n",
              "    <tr>\n",
              "      <th>Date</th>\n",
              "      <th></th>\n",
              "      <th></th>\n",
              "      <th></th>\n",
              "      <th></th>\n",
              "      <th></th>\n",
              "      <th></th>\n",
              "      <th></th>\n",
              "      <th></th>\n",
              "    </tr>\n",
              "  </thead>\n",
              "  <tbody>\n",
              "    <tr>\n",
              "      <th>2020-06-09</th>\n",
              "      <td>85.997498</td>\n",
              "      <td>88.209999</td>\n",
              "      <td>-0.9997</td>\n",
              "      <td>-0.9997</td>\n",
              "      <td>147712400.0</td>\n",
              "      <td>83.035004</td>\n",
              "      <td>86.402496</td>\n",
              "      <td>83.002502</td>\n",
              "    </tr>\n",
              "    <tr>\n",
              "      <th>2020-06-10</th>\n",
              "      <td>88.209999</td>\n",
              "      <td>83.974998</td>\n",
              "      <td>-0.9997</td>\n",
              "      <td>-0.9986</td>\n",
              "      <td>166651600.0</td>\n",
              "      <td>86.974998</td>\n",
              "      <td>88.692497</td>\n",
              "      <td>86.522499</td>\n",
              "    </tr>\n",
              "    <tr>\n",
              "      <th>2020-06-11</th>\n",
              "      <td>83.974998</td>\n",
              "      <td>84.699997</td>\n",
              "      <td>-0.9986</td>\n",
              "      <td>-0.9998</td>\n",
              "      <td>201662400.0</td>\n",
              "      <td>87.327499</td>\n",
              "      <td>87.764999</td>\n",
              "      <td>83.870003</td>\n",
              "    </tr>\n",
              "    <tr>\n",
              "      <th>2020-06-12</th>\n",
              "      <td>84.699997</td>\n",
              "      <td>85.747498</td>\n",
              "      <td>-0.9998</td>\n",
              "      <td>-0.9997</td>\n",
              "      <td>200146000.0</td>\n",
              "      <td>86.180000</td>\n",
              "      <td>86.949997</td>\n",
              "      <td>83.555000</td>\n",
              "    </tr>\n",
              "    <tr>\n",
              "      <th>2020-06-15</th>\n",
              "      <td>85.747498</td>\n",
              "      <td>88.019997</td>\n",
              "      <td>-0.9997</td>\n",
              "      <td>-0.9998</td>\n",
              "      <td>138808800.0</td>\n",
              "      <td>83.312500</td>\n",
              "      <td>86.419998</td>\n",
              "      <td>83.144997</td>\n",
              "    </tr>\n",
              "    <tr>\n",
              "      <th>2020-06-16</th>\n",
              "      <td>88.019997</td>\n",
              "      <td>87.897499</td>\n",
              "      <td>-0.9998</td>\n",
              "      <td>-0.9987</td>\n",
              "      <td>165428800.0</td>\n",
              "      <td>87.864998</td>\n",
              "      <td>88.300003</td>\n",
              "      <td>86.180000</td>\n",
              "    </tr>\n",
              "    <tr>\n",
              "      <th>2020-06-17</th>\n",
              "      <td>87.897499</td>\n",
              "      <td>87.932503</td>\n",
              "      <td>-0.9987</td>\n",
              "      <td>-0.9997</td>\n",
              "      <td>114406400.0</td>\n",
              "      <td>88.787498</td>\n",
              "      <td>88.849998</td>\n",
              "      <td>87.772499</td>\n",
              "    </tr>\n",
              "    <tr>\n",
              "      <th>2020-06-18</th>\n",
              "      <td>87.932503</td>\n",
              "      <td>87.430000</td>\n",
              "      <td>-0.9997</td>\n",
              "      <td>-0.9998</td>\n",
              "      <td>96820400.0</td>\n",
              "      <td>87.852501</td>\n",
              "      <td>88.362503</td>\n",
              "      <td>87.305000</td>\n",
              "    </tr>\n",
              "    <tr>\n",
              "      <th>2020-06-19</th>\n",
              "      <td>87.430000</td>\n",
              "      <td>89.717499</td>\n",
              "      <td>-0.9998</td>\n",
              "      <td>-0.9996</td>\n",
              "      <td>264476000.0</td>\n",
              "      <td>88.660004</td>\n",
              "      <td>89.139999</td>\n",
              "      <td>86.287498</td>\n",
              "    </tr>\n",
              "    <tr>\n",
              "      <th>2020-06-22</th>\n",
              "      <td>89.717499</td>\n",
              "      <td>91.632500</td>\n",
              "      <td>-0.9996</td>\n",
              "      <td>-0.9999</td>\n",
              "      <td>135445200.0</td>\n",
              "      <td>87.834999</td>\n",
              "      <td>89.864998</td>\n",
              "      <td>87.787498</td>\n",
              "    </tr>\n",
              "  </tbody>\n",
              "</table>\n",
              "</div>"
            ],
            "text/plain": [
              "            close_price  close_price_shifted  ...       high        low\n",
              "Date                                          ...                      \n",
              "2020-06-09    85.997498            88.209999  ...  86.402496  83.002502\n",
              "2020-06-10    88.209999            83.974998  ...  88.692497  86.522499\n",
              "2020-06-11    83.974998            84.699997  ...  87.764999  83.870003\n",
              "2020-06-12    84.699997            85.747498  ...  86.949997  83.555000\n",
              "2020-06-15    85.747498            88.019997  ...  86.419998  83.144997\n",
              "2020-06-16    88.019997            87.897499  ...  88.300003  86.180000\n",
              "2020-06-17    87.897499            87.932503  ...  88.849998  87.772499\n",
              "2020-06-18    87.932503            87.430000  ...  88.362503  87.305000\n",
              "2020-06-19    87.430000            89.717499  ...  89.139999  86.287498\n",
              "2020-06-22    89.717499            91.632500  ...  89.864998  87.787498\n",
              "\n",
              "[10 rows x 8 columns]"
            ]
          },
          "metadata": {
            "tags": []
          },
          "execution_count": 227
        }
      ]
    },
    {
      "cell_type": "markdown",
      "metadata": {
        "id": "WQaNyr-r7GwQ"
      },
      "source": [
        "##**Step 8 Setting the Target Variable and the Feature Dataset**"
      ]
    },
    {
      "cell_type": "code",
      "metadata": {
        "colab": {
          "base_uri": "https://localhost:8080/"
        },
        "id": "1BAJuIE-7DvU",
        "outputId": "c4298a2b-4023-4410-d84e-cbf46dfe0d40"
      },
      "source": [
        "# setting the target variable as the shifted close_price\n",
        "y = data['close_price_shifted']\n",
        "y\n",
        "\n"
      ],
      "execution_count": null,
      "outputs": [
        {
          "output_type": "execute_result",
          "data": {
            "text/plain": [
              "Date\n",
              "2020-06-09     88.209999\n",
              "2020-06-10     83.974998\n",
              "2020-06-11     84.699997\n",
              "2020-06-12     85.747498\n",
              "2020-06-15     88.019997\n",
              "                 ...    \n",
              "2020-12-23    131.970001\n",
              "2020-12-24    136.690002\n",
              "2020-12-28    134.869995\n",
              "2020-12-29    133.720001\n",
              "2020-12-30    132.690002\n",
              "Name: close_price_shifted, Length: 143, dtype: float64"
            ]
          },
          "metadata": {
            "tags": []
          },
          "execution_count": 228
        }
      ]
    },
    {
      "cell_type": "code",
      "metadata": {
        "colab": {
          "base_uri": "https://localhost:8080/",
          "height": 447
        },
        "id": "k3AtbX1-7Obz",
        "outputId": "ecf0cad4-6185-47d6-8824-98667230410e"
      },
      "source": [
        "# setting the features dataset for prediction  \n",
        "cols = ['close_price', 'compound', 'compound_shifted', 'volume', 'open_price', 'high', 'low']\n",
        "x = data[cols]\n",
        "x"
      ],
      "execution_count": null,
      "outputs": [
        {
          "output_type": "execute_result",
          "data": {
            "text/html": [
              "<div>\n",
              "<style scoped>\n",
              "    .dataframe tbody tr th:only-of-type {\n",
              "        vertical-align: middle;\n",
              "    }\n",
              "\n",
              "    .dataframe tbody tr th {\n",
              "        vertical-align: top;\n",
              "    }\n",
              "\n",
              "    .dataframe thead th {\n",
              "        text-align: right;\n",
              "    }\n",
              "</style>\n",
              "<table border=\"1\" class=\"dataframe\">\n",
              "  <thead>\n",
              "    <tr style=\"text-align: right;\">\n",
              "      <th></th>\n",
              "      <th>close_price</th>\n",
              "      <th>compound</th>\n",
              "      <th>compound_shifted</th>\n",
              "      <th>volume</th>\n",
              "      <th>open_price</th>\n",
              "      <th>high</th>\n",
              "      <th>low</th>\n",
              "    </tr>\n",
              "    <tr>\n",
              "      <th>Date</th>\n",
              "      <th></th>\n",
              "      <th></th>\n",
              "      <th></th>\n",
              "      <th></th>\n",
              "      <th></th>\n",
              "      <th></th>\n",
              "      <th></th>\n",
              "    </tr>\n",
              "  </thead>\n",
              "  <tbody>\n",
              "    <tr>\n",
              "      <th>2020-06-09</th>\n",
              "      <td>85.997498</td>\n",
              "      <td>-0.9997</td>\n",
              "      <td>-0.9997</td>\n",
              "      <td>147712400.0</td>\n",
              "      <td>83.035004</td>\n",
              "      <td>86.402496</td>\n",
              "      <td>83.002502</td>\n",
              "    </tr>\n",
              "    <tr>\n",
              "      <th>2020-06-10</th>\n",
              "      <td>88.209999</td>\n",
              "      <td>-0.9997</td>\n",
              "      <td>-0.9986</td>\n",
              "      <td>166651600.0</td>\n",
              "      <td>86.974998</td>\n",
              "      <td>88.692497</td>\n",
              "      <td>86.522499</td>\n",
              "    </tr>\n",
              "    <tr>\n",
              "      <th>2020-06-11</th>\n",
              "      <td>83.974998</td>\n",
              "      <td>-0.9986</td>\n",
              "      <td>-0.9998</td>\n",
              "      <td>201662400.0</td>\n",
              "      <td>87.327499</td>\n",
              "      <td>87.764999</td>\n",
              "      <td>83.870003</td>\n",
              "    </tr>\n",
              "    <tr>\n",
              "      <th>2020-06-12</th>\n",
              "      <td>84.699997</td>\n",
              "      <td>-0.9998</td>\n",
              "      <td>-0.9997</td>\n",
              "      <td>200146000.0</td>\n",
              "      <td>86.180000</td>\n",
              "      <td>86.949997</td>\n",
              "      <td>83.555000</td>\n",
              "    </tr>\n",
              "    <tr>\n",
              "      <th>2020-06-15</th>\n",
              "      <td>85.747498</td>\n",
              "      <td>-0.9997</td>\n",
              "      <td>-0.9998</td>\n",
              "      <td>138808800.0</td>\n",
              "      <td>83.312500</td>\n",
              "      <td>86.419998</td>\n",
              "      <td>83.144997</td>\n",
              "    </tr>\n",
              "    <tr>\n",
              "      <th>...</th>\n",
              "      <td>...</td>\n",
              "      <td>...</td>\n",
              "      <td>...</td>\n",
              "      <td>...</td>\n",
              "      <td>...</td>\n",
              "      <td>...</td>\n",
              "      <td>...</td>\n",
              "    </tr>\n",
              "    <tr>\n",
              "      <th>2020-12-23</th>\n",
              "      <td>130.960007</td>\n",
              "      <td>-0.9995</td>\n",
              "      <td>-0.9966</td>\n",
              "      <td>88223700.0</td>\n",
              "      <td>132.160004</td>\n",
              "      <td>132.429993</td>\n",
              "      <td>130.779999</td>\n",
              "    </tr>\n",
              "    <tr>\n",
              "      <th>2020-12-24</th>\n",
              "      <td>131.970001</td>\n",
              "      <td>-0.9966</td>\n",
              "      <td>-0.9997</td>\n",
              "      <td>54930100.0</td>\n",
              "      <td>131.320007</td>\n",
              "      <td>133.460007</td>\n",
              "      <td>131.100006</td>\n",
              "    </tr>\n",
              "    <tr>\n",
              "      <th>2020-12-28</th>\n",
              "      <td>136.690002</td>\n",
              "      <td>-0.9997</td>\n",
              "      <td>-0.9997</td>\n",
              "      <td>124486200.0</td>\n",
              "      <td>133.990005</td>\n",
              "      <td>137.339996</td>\n",
              "      <td>133.509995</td>\n",
              "    </tr>\n",
              "    <tr>\n",
              "      <th>2020-12-29</th>\n",
              "      <td>134.869995</td>\n",
              "      <td>-0.9997</td>\n",
              "      <td>-0.9997</td>\n",
              "      <td>121047300.0</td>\n",
              "      <td>138.050003</td>\n",
              "      <td>138.789993</td>\n",
              "      <td>134.339996</td>\n",
              "    </tr>\n",
              "    <tr>\n",
              "      <th>2020-12-30</th>\n",
              "      <td>133.720001</td>\n",
              "      <td>-0.9997</td>\n",
              "      <td>-0.9996</td>\n",
              "      <td>96452100.0</td>\n",
              "      <td>135.580002</td>\n",
              "      <td>135.990005</td>\n",
              "      <td>133.399994</td>\n",
              "    </tr>\n",
              "  </tbody>\n",
              "</table>\n",
              "<p>143 rows × 7 columns</p>\n",
              "</div>"
            ],
            "text/plain": [
              "            close_price  compound  ...        high         low\n",
              "Date                               ...                        \n",
              "2020-06-09    85.997498   -0.9997  ...   86.402496   83.002502\n",
              "2020-06-10    88.209999   -0.9997  ...   88.692497   86.522499\n",
              "2020-06-11    83.974998   -0.9986  ...   87.764999   83.870003\n",
              "2020-06-12    84.699997   -0.9998  ...   86.949997   83.555000\n",
              "2020-06-15    85.747498   -0.9997  ...   86.419998   83.144997\n",
              "...                 ...       ...  ...         ...         ...\n",
              "2020-12-23   130.960007   -0.9995  ...  132.429993  130.779999\n",
              "2020-12-24   131.970001   -0.9966  ...  133.460007  131.100006\n",
              "2020-12-28   136.690002   -0.9997  ...  137.339996  133.509995\n",
              "2020-12-29   134.869995   -0.9997  ...  138.789993  134.339996\n",
              "2020-12-30   133.720001   -0.9997  ...  135.990005  133.399994\n",
              "\n",
              "[143 rows x 7 columns]"
            ]
          },
          "metadata": {
            "tags": []
          },
          "execution_count": 229
        }
      ]
    },
    {
      "cell_type": "markdown",
      "metadata": {
        "id": "1E8yj_gc7TLx"
      },
      "source": [
        "##**8.1 Scaling the Target Variable and the Feature Dataset**\n",
        "Since we are using LSTM to predict stock prices, which is a time series data, it is important to understand that LSTM can be very sensitive to the scale of the data. Right now, if the data is observed, it is present in different scales. Therefore, it is important to re-scale the data so that the range of the dataset is same, for almost all records. Here a feature range of (-1,1) is used."
      ]
    },
    {
      "cell_type": "code",
      "metadata": {
        "colab": {
          "base_uri": "https://localhost:8080/"
        },
        "id": "213jSBfJ7QY4",
        "outputId": "bfecf420-ef93-4ab1-e616-d031340c4434"
      },
      "source": [
        "# scaling the feature dataset\n",
        "scaler_x = preprocessing.MinMaxScaler (feature_range=(-1, 1))\n",
        "x = np.array(x).reshape((len(x) ,len(cols)))\n",
        "x = scaler_x.fit_transform(x)\n",
        "\n",
        "# scaling the target variable\n",
        "scaler_y = preprocessing.MinMaxScaler (feature_range=(-1, 1))\n",
        "y = np.array (y).reshape ((len( y), 1))\n",
        "y = scaler_y.fit_transform (y)\n",
        "\n",
        "# displaying the scaled feature dataset and the target variable\n",
        "x, y"
      ],
      "execution_count": null,
      "outputs": [
        {
          "output_type": "execute_result",
          "data": {
            "text/plain": [
              "(array([[-0.92326663, -0.99979977, -0.99979977, ..., -1.        ,\n",
              "         -1.        , -1.        ],\n",
              "        [-0.83932464, -0.99979977, -0.9986985 , ..., -0.85676655,\n",
              "         -0.91257452, -0.86286837],\n",
              "        [-1.        , -0.9986985 , -0.99989988, ..., -0.84395183,\n",
              "         -0.94798366, -0.966204  ],\n",
              "        ...,\n",
              "        [ 1.        , -0.99979977, -0.99979977, ...,  0.85240396,\n",
              "          0.94464339,  0.96766492],\n",
              "        [ 0.93094918, -0.99979977, -0.99979977, ...,  1.        ,\n",
              "          1.        ,  1.        ],\n",
              "        [ 0.88731857, -0.99979977, -0.99969965, ...,  0.91020627,\n",
              "          0.89310472,  0.96337951]]), array([[-8.39324645e-01],\n",
              "        [-1.00000000e+00],\n",
              "        [-9.72493638e-01],\n",
              "        [-9.32751594e-01],\n",
              "        [-8.46533294e-01],\n",
              "        [-8.51180852e-01],\n",
              "        [-8.49852805e-01],\n",
              "        [-8.68917699e-01],\n",
              "        [-7.82130302e-01],\n",
              "        [-7.09475428e-01],\n",
              "        [-7.70843193e-01],\n",
              "        [-7.25505057e-01],\n",
              "        [-8.31831446e-01],\n",
              "        [-7.54529014e-01],\n",
              "        [-7.25884532e-01],\n",
              "        [-7.32429196e-01],\n",
              "        [-7.32429196e-01],\n",
              "        [-6.40045403e-01],\n",
              "        [-6.51048001e-01],\n",
              "        [-5.68718576e-01],\n",
              "        [-5.53163118e-01],\n",
              "        [-5.46808343e-01],\n",
              "        [-5.63596619e-01],\n",
              "        [-5.03651560e-01],\n",
              "        [-4.78326892e-01],\n",
              "        [-5.23949538e-01],\n",
              "        [-5.31347811e-01],\n",
              "        [-4.54329929e-01],\n",
              "        [-5.05833216e-01],\n",
              "        [-4.95494641e-01],\n",
              "        [-6.63473306e-01],\n",
              "        [-6.72199589e-01],\n",
              "        [-5.88921591e-01],\n",
              "        [-6.48012775e-01],\n",
              "        [-5.80195308e-01],\n",
              "        [-5.36564429e-01],\n",
              "        [-1.54510014e-01],\n",
              "        [-5.29261081e-02],\n",
              "        [-2.53248202e-02],\n",
              "        [-1.02437629e-02],\n",
              "        [ 1.35445157e-01],\n",
              "        [ 2.95932065e-02],\n",
              "        [ 9.08660085e-02],\n",
              "        [-3.63274183e-02],\n",
              "        [ 1.01584058e-01],\n",
              "        [ 1.77463782e-01],\n",
              "        [ 1.73574909e-01],\n",
              "        [ 1.62192836e-01],\n",
              "        [ 1.98425481e-01],\n",
              "        [ 2.03926647e-01],\n",
              "        [ 3.01337433e-01],\n",
              "        [ 5.32580933e-01],\n",
              "        [ 5.89016288e-01],\n",
              "        [ 5.49843343e-01],\n",
              "        [ 6.14246335e-01],\n",
              "        [ 5.56862407e-01],\n",
              "        [ 5.49179623e-01],\n",
              "        [ 7.09759711e-01],\n",
              "        [ 9.04770604e-01],\n",
              "        [ 7.99297824e-01],\n",
              "        [ 4.00170585e-01],\n",
              "        [ 4.03205850e-01],\n",
              "        [ 9.43754078e-02],\n",
              "        [ 2.65104789e-01],\n",
              "        [ 1.19795040e-01],\n",
              "        [ 6.32647206e-02],\n",
              "        [ 1.90742696e-01],\n",
              "        [ 1.97571872e-01],\n",
              "        [ 6.81967889e-02],\n",
              "        [ 2.84397209e-04],\n",
              "        [-1.32505121e-01],\n",
              "        [-9.57973939e-03],\n",
              "        [ 5.60560709e-02],\n",
              "        [-1.21881694e-01],\n",
              "        [-8.01479215e-02],\n",
              "        [ 7.38878442e-02],\n",
              "        [ 1.75566675e-01],\n",
              "        [ 1.42558881e-01],\n",
              "        [ 2.07815521e-01],\n",
              "        [ 2.44996700e-01],\n",
              "        [ 1.01963266e-01],\n",
              "        [ 2.33994102e-01],\n",
              "        [ 1.07275113e-01],\n",
              "        [ 1.80119573e-01],\n",
              "        [ 1.75946150e-01],\n",
              "        [ 2.51825875e-01],\n",
              "        [ 5.33719091e-01],\n",
              "        [ 4.08517393e-01],\n",
              "        [ 4.11932132e-01],\n",
              "        [ 3.93720884e-01],\n",
              "        [ 3.29602441e-01],\n",
              "        [ 2.14265487e-01],\n",
              "        [ 2.72313439e-01],\n",
              "        [ 2.48031964e-01],\n",
              "        [ 2.05539205e-01],\n",
              "        [ 1.78601940e-01],\n",
              "        [ 1.78981415e-01],\n",
              "        [ 2.37788012e-01],\n",
              "        [ 3.29127168e-02],\n",
              "        [ 1.89225064e-01],\n",
              "        [-5.58664095e-02],\n",
              "        [-5.92811489e-02],\n",
              "        [ 4.07861109e-03],\n",
              "        [ 1.75187201e-01],\n",
              "        [ 3.29981916e-01],\n",
              "        [ 3.17082476e-01],\n",
              "        [ 2.27164926e-01],\n",
              "        [ 2.13886012e-01],\n",
              "        [ 3.47434214e-01],\n",
              "        [ 3.36811091e-01],\n",
              "        [ 3.38708198e-01],\n",
              "        [ 3.78165693e-01],\n",
              "        [ 3.43640266e-01],\n",
              "        [ 2.92042053e-01],\n",
              "        [ 3.15185369e-01],\n",
              "        [ 2.65863434e-01],\n",
              "        [ 1.33453390e-01],\n",
              "        [ 1.83534009e-01],\n",
              "        [ 2.16162328e-01],\n",
              "        [ 2.37408537e-01],\n",
              "        [ 3.30740865e-01],\n",
              "        [ 4.69980084e-01],\n",
              "        [ 4.83638472e-01],\n",
              "        [ 4.78326892e-01],\n",
              "        [ 4.52148311e-01],\n",
              "        [ 5.09058104e-01],\n",
              "        [ 5.32960104e-01],\n",
              "        [ 4.34316537e-01],\n",
              "        [ 4.89708698e-01],\n",
              "        [ 4.58218840e-01],\n",
              "        [ 4.34316537e-01],\n",
              "        [ 6.65749622e-01],\n",
              "        [ 6.63093870e-01],\n",
              "        [ 6.96860309e-01],\n",
              "        [ 6.19463256e-01],\n",
              "        [ 6.79028536e-01],\n",
              "        [ 8.17509376e-01],\n",
              "        [ 7.82604778e-01],\n",
              "        [ 8.20923811e-01],\n",
              "        [ 1.00000000e+00],\n",
              "        [ 9.30949185e-01],\n",
              "        [ 8.87318571e-01],\n",
              "        [ 8.48240550e-01]]))"
            ]
          },
          "metadata": {
            "tags": []
          },
          "execution_count": 230
        }
      ]
    },
    {
      "cell_type": "markdown",
      "metadata": {
        "id": "j8jzoNFn7b4R"
      },
      "source": [
        "## **Step 8.2 Dividing the dataset into Training and Test**\n",
        "\n",
        "Normally for any other dataset train_test_split from sklearn package is used, but for time series data like stock prices which is dependent on date, the dataset is divided into train and test dataset in a different way as shown below. In timeseries data, an observation for a particular date is always dependent on the previous date records."
      ]
    },
    {
      "cell_type": "code",
      "metadata": {
        "colab": {
          "base_uri": "https://localhost:8080/"
        },
        "id": "2XjfWp-_7ZU8",
        "outputId": "c8ff3ab2-f54f-4ede-ee4d-2b395d238644"
      },
      "source": [
        "# preparing training and test dataset\n",
        "X_train = x[0 : train_end,]\n",
        "X_test = x[train_end+1 : len(x),]    \n",
        "y_train = y[0 : train_end] \n",
        "y_test = y[train_end+1 : len(y)]  \n",
        "\n",
        "# printing the shape of the training and the test datasets\n",
        "print('Number of rows and columns in the Training set X:', X_train.shape, 'and y:', y_train.shape)\n",
        "print('Number of rows and columns in the Test set X:', X_test.shape, 'and y:', y_test.shape)"
      ],
      "execution_count": null,
      "outputs": [
        {
          "output_type": "stream",
          "text": [
            "Number of rows and columns in the Training set X: (115, 7) and y: (115, 1)\n",
            "Number of rows and columns in the Test set X: (27, 7) and y: (27, 1)\n"
          ],
          "name": "stdout"
        }
      ]
    },
    {
      "cell_type": "markdown",
      "metadata": {
        "id": "hDnjtEOi7mvc"
      },
      "source": [
        "## **Step 8.3 Reshaping the Feature Dataset**"
      ]
    },
    {
      "cell_type": "code",
      "metadata": {
        "colab": {
          "base_uri": "https://localhost:8080/"
        },
        "id": "2PHBo1I67k0Z",
        "outputId": "471cd067-c632-48b2-83ae-11f43f6cc49e"
      },
      "source": [
        "# reshaping the feature dataset for feeding into the model\n",
        "X_train = X_train.reshape (X_train.shape + (1,)) \n",
        "X_test = X_test.reshape(X_test.shape + (1,))\n",
        "\n",
        "# printing the re-shaped feature dataset\n",
        "print('Shape of Training set X:', X_train.shape)\n",
        "print('Shape of Test set X:', X_test.shape)"
      ],
      "execution_count": null,
      "outputs": [
        {
          "output_type": "stream",
          "text": [
            "Shape of Training set X: (115, 7, 1)\n",
            "Shape of Test set X: (27, 7, 1)\n"
          ],
          "name": "stdout"
        }
      ]
    },
    {
      "cell_type": "markdown",
      "metadata": {
        "id": "PwGuZ-r57sT4"
      },
      "source": [
        "## **Step 9 Stock Data Modelling**"
      ]
    },
    {
      "cell_type": "code",
      "metadata": {
        "colab": {
          "base_uri": "https://localhost:8080/"
        },
        "id": "67QO-Y9L7qjq",
        "outputId": "24561d0a-88f5-47c5-be3d-771e1643b698"
      },
      "source": [
        "# setting the seed to achieve consistent and less random predictions at each execution\n",
        "np.random.seed(2016)\n",
        "\n",
        "# setting the model architecture\n",
        "model=Sequential()\n",
        "model.add(LSTM(100,return_sequences=True,activation='tanh',input_shape=(len(cols),1)))\n",
        "model.add(Dropout(0.1))\n",
        "model.add(LSTM(100,return_sequences=True,activation='tanh'))\n",
        "model.add(Dropout(0.1))\n",
        "\n",
        "model.add(LSTM(100,activation='tanh'))\n",
        "model.add(Dropout(0.1))\n",
        "model.add(Dense(1))\n",
        "\n",
        "# printing the model summary\n",
        "model.summary()"
      ],
      "execution_count": null,
      "outputs": [
        {
          "output_type": "stream",
          "text": [
            "Model: \"sequential_10\"\n",
            "_________________________________________________________________\n",
            "Layer (type)                 Output Shape              Param #   \n",
            "=================================================================\n",
            "lstm_35 (LSTM)               (None, 7, 100)            40800     \n",
            "_________________________________________________________________\n",
            "dropout_35 (Dropout)         (None, 7, 100)            0         \n",
            "_________________________________________________________________\n",
            "lstm_36 (LSTM)               (None, 7, 100)            80400     \n",
            "_________________________________________________________________\n",
            "dropout_36 (Dropout)         (None, 7, 100)            0         \n",
            "_________________________________________________________________\n",
            "lstm_37 (LSTM)               (None, 100)               80400     \n",
            "_________________________________________________________________\n",
            "dropout_37 (Dropout)         (None, 100)               0         \n",
            "_________________________________________________________________\n",
            "dense_9 (Dense)              (None, 1)                 101       \n",
            "=================================================================\n",
            "Total params: 201,701\n",
            "Trainable params: 201,701\n",
            "Non-trainable params: 0\n",
            "_________________________________________________________________\n"
          ],
          "name": "stdout"
        }
      ]
    },
    {
      "cell_type": "code",
      "metadata": {
        "colab": {
          "base_uri": "https://localhost:8080/"
        },
        "id": "Hb4yb74a7x4Z",
        "outputId": "e81b41cf-7de3-4323-dc86-f1f13c7316f6"
      },
      "source": [
        "# compiling the model\n",
        "model.compile(loss='mse' , optimizer='adam')\n",
        "\n",
        "# fitting the model using the training dataset\n",
        "model.fit(X_train, y_train, validation_split=0.35, epochs=50, batch_size=8, verbose=1)"
      ],
      "execution_count": null,
      "outputs": [
        {
          "output_type": "stream",
          "text": [
            "Epoch 1/50\n",
            "10/10 [==============================] - 6s 156ms/step - loss: 0.2571 - val_loss: 0.2722\n",
            "Epoch 2/50\n",
            "10/10 [==============================] - 0s 18ms/step - loss: 0.1665 - val_loss: 0.1145\n",
            "Epoch 3/50\n",
            "10/10 [==============================] - 0s 18ms/step - loss: 0.0695 - val_loss: 0.0309\n",
            "Epoch 4/50\n",
            "10/10 [==============================] - 0s 18ms/step - loss: 0.0364 - val_loss: 0.0202\n",
            "Epoch 5/50\n",
            "10/10 [==============================] - 0s 18ms/step - loss: 0.0423 - val_loss: 0.0198\n",
            "Epoch 6/50\n",
            "10/10 [==============================] - 0s 18ms/step - loss: 0.0358 - val_loss: 0.0334\n",
            "Epoch 7/50\n",
            "10/10 [==============================] - 0s 18ms/step - loss: 0.0267 - val_loss: 0.0396\n",
            "Epoch 8/50\n",
            "10/10 [==============================] - 0s 19ms/step - loss: 0.0224 - val_loss: 0.0312\n",
            "Epoch 9/50\n",
            "10/10 [==============================] - 0s 19ms/step - loss: 0.0219 - val_loss: 0.0319\n",
            "Epoch 10/50\n",
            "10/10 [==============================] - 0s 18ms/step - loss: 0.0278 - val_loss: 0.0322\n",
            "Epoch 11/50\n",
            "10/10 [==============================] - 0s 18ms/step - loss: 0.0251 - val_loss: 0.0406\n",
            "Epoch 12/50\n",
            "10/10 [==============================] - 0s 19ms/step - loss: 0.0250 - val_loss: 0.0308\n",
            "Epoch 13/50\n",
            "10/10 [==============================] - 0s 18ms/step - loss: 0.0277 - val_loss: 0.0309\n",
            "Epoch 14/50\n",
            "10/10 [==============================] - 0s 19ms/step - loss: 0.0240 - val_loss: 0.0372\n",
            "Epoch 15/50\n",
            "10/10 [==============================] - 0s 18ms/step - loss: 0.0244 - val_loss: 0.0275\n",
            "Epoch 16/50\n",
            "10/10 [==============================] - 0s 18ms/step - loss: 0.0262 - val_loss: 0.0337\n",
            "Epoch 17/50\n",
            "10/10 [==============================] - 0s 19ms/step - loss: 0.0274 - val_loss: 0.0300\n",
            "Epoch 18/50\n",
            "10/10 [==============================] - 0s 19ms/step - loss: 0.0230 - val_loss: 0.0360\n",
            "Epoch 19/50\n",
            "10/10 [==============================] - 0s 19ms/step - loss: 0.0294 - val_loss: 0.0260\n",
            "Epoch 20/50\n",
            "10/10 [==============================] - 0s 19ms/step - loss: 0.0263 - val_loss: 0.0282\n",
            "Epoch 21/50\n",
            "10/10 [==============================] - 0s 18ms/step - loss: 0.0270 - val_loss: 0.0433\n",
            "Epoch 22/50\n",
            "10/10 [==============================] - 0s 18ms/step - loss: 0.0236 - val_loss: 0.0407\n",
            "Epoch 23/50\n",
            "10/10 [==============================] - 0s 19ms/step - loss: 0.0221 - val_loss: 0.0335\n",
            "Epoch 24/50\n",
            "10/10 [==============================] - 0s 18ms/step - loss: 0.0243 - val_loss: 0.0396\n",
            "Epoch 25/50\n",
            "10/10 [==============================] - 0s 19ms/step - loss: 0.0245 - val_loss: 0.0313\n",
            "Epoch 26/50\n",
            "10/10 [==============================] - 0s 17ms/step - loss: 0.0207 - val_loss: 0.0390\n",
            "Epoch 27/50\n",
            "10/10 [==============================] - 0s 19ms/step - loss: 0.0202 - val_loss: 0.0303\n",
            "Epoch 28/50\n",
            "10/10 [==============================] - 0s 18ms/step - loss: 0.0230 - val_loss: 0.0320\n",
            "Epoch 29/50\n",
            "10/10 [==============================] - 0s 19ms/step - loss: 0.0192 - val_loss: 0.0284\n",
            "Epoch 30/50\n",
            "10/10 [==============================] - 0s 19ms/step - loss: 0.0204 - val_loss: 0.0345\n",
            "Epoch 31/50\n",
            "10/10 [==============================] - 0s 20ms/step - loss: 0.0225 - val_loss: 0.0257\n",
            "Epoch 32/50\n",
            "10/10 [==============================] - 0s 18ms/step - loss: 0.0290 - val_loss: 0.0284\n",
            "Epoch 33/50\n",
            "10/10 [==============================] - 0s 18ms/step - loss: 0.0199 - val_loss: 0.0279\n",
            "Epoch 34/50\n",
            "10/10 [==============================] - 0s 19ms/step - loss: 0.0274 - val_loss: 0.0291\n",
            "Epoch 35/50\n",
            "10/10 [==============================] - 0s 20ms/step - loss: 0.0235 - val_loss: 0.0332\n",
            "Epoch 36/50\n",
            "10/10 [==============================] - 0s 19ms/step - loss: 0.0202 - val_loss: 0.0378\n",
            "Epoch 37/50\n",
            "10/10 [==============================] - 0s 18ms/step - loss: 0.0233 - val_loss: 0.0273\n",
            "Epoch 38/50\n",
            "10/10 [==============================] - 0s 20ms/step - loss: 0.0222 - val_loss: 0.0226\n",
            "Epoch 39/50\n",
            "10/10 [==============================] - 0s 18ms/step - loss: 0.0230 - val_loss: 0.0286\n",
            "Epoch 40/50\n",
            "10/10 [==============================] - 0s 19ms/step - loss: 0.0205 - val_loss: 0.0273\n",
            "Epoch 41/50\n",
            "10/10 [==============================] - 0s 18ms/step - loss: 0.0192 - val_loss: 0.0287\n",
            "Epoch 42/50\n",
            "10/10 [==============================] - 0s 19ms/step - loss: 0.0209 - val_loss: 0.0302\n",
            "Epoch 43/50\n",
            "10/10 [==============================] - 0s 19ms/step - loss: 0.0237 - val_loss: 0.0304\n",
            "Epoch 44/50\n",
            "10/10 [==============================] - 0s 20ms/step - loss: 0.0128 - val_loss: 0.0240\n",
            "Epoch 45/50\n",
            "10/10 [==============================] - 0s 19ms/step - loss: 0.0268 - val_loss: 0.0234\n",
            "Epoch 46/50\n",
            "10/10 [==============================] - 0s 19ms/step - loss: 0.0240 - val_loss: 0.0327\n",
            "Epoch 47/50\n",
            "10/10 [==============================] - 0s 18ms/step - loss: 0.0223 - val_loss: 0.0308\n",
            "Epoch 48/50\n",
            "10/10 [==============================] - 0s 19ms/step - loss: 0.0266 - val_loss: 0.0418\n",
            "Epoch 49/50\n",
            "10/10 [==============================] - 0s 19ms/step - loss: 0.0283 - val_loss: 0.0234\n",
            "Epoch 50/50\n",
            "10/10 [==============================] - 0s 19ms/step - loss: 0.0286 - val_loss: 0.0306\n"
          ],
          "name": "stdout"
        },
        {
          "output_type": "execute_result",
          "data": {
            "text/plain": [
              "<keras.callbacks.History at 0x7fa9ecf75c50>"
            ]
          },
          "metadata": {
            "tags": []
          },
          "execution_count": 234
        }
      ]
    },
    {
      "cell_type": "code",
      "metadata": {
        "colab": {
          "base_uri": "https://localhost:8080/"
        },
        "id": "KUFSku8b70cF",
        "outputId": "2ac54731-30f5-49a2-adc2-3d52c3f24ad6"
      },
      "source": [
        "# saving the model as a json file\n",
        "model_json = model.to_json()\n",
        "with open('model.json', 'w') as json_file:\n",
        "    json_file.write(model_json)\n",
        "    \n",
        "# serialize weights to HDF5\n",
        "model.save_weights('/content/drive/MyDrive/TheSparkFoundation/model.h5')\n",
        "print('Model is saved to the disk')"
      ],
      "execution_count": null,
      "outputs": [
        {
          "output_type": "stream",
          "text": [
            "Model is saved to the disk\n"
          ],
          "name": "stdout"
        }
      ]
    },
    {
      "cell_type": "markdown",
      "metadata": {
        "id": "dmZvbjUv8B6L"
      },
      "source": [
        "## **Step 10 Predictions**"
      ]
    },
    {
      "cell_type": "code",
      "metadata": {
        "colab": {
          "base_uri": "https://localhost:8080/"
        },
        "id": "6rZ2SrNa7_jD",
        "outputId": "edb54e8d-4e17-4142-bac8-4b8ed0f948ba"
      },
      "source": [
        "# performing predictions\n",
        "predictions = model.predict(X_test) \n",
        "\n",
        "# unscaling the predictions\n",
        "predictions = scaler_y.inverse_transform(np.array(predictions).reshape((len(predictions), 1)))\n",
        "\n",
        "# printing the predictions\n",
        "print('Predictions:')\n",
        "predictions[0:5]"
      ],
      "execution_count": null,
      "outputs": [
        {
          "output_type": "stream",
          "text": [
            "Predictions:\n"
          ],
          "name": "stdout"
        },
        {
          "output_type": "execute_result",
          "data": {
            "text/plain": [
              "array([[114.38256 ],\n",
              "       [113.18921 ],\n",
              "       [113.29595 ],\n",
              "       [113.056274],\n",
              "       [112.73713 ]], dtype=float32)"
            ]
          },
          "metadata": {
            "tags": []
          },
          "execution_count": 236
        }
      ]
    },
    {
      "cell_type": "markdown",
      "metadata": {
        "id": "XD6T-WNC8IqZ"
      },
      "source": [
        "## **Step 11:  Model Evaluation**"
      ]
    },
    {
      "cell_type": "code",
      "metadata": {
        "colab": {
          "base_uri": "https://localhost:8080/"
        },
        "id": "T9BLM3r88HF0",
        "outputId": "730aa355-76e1-43c9-da7b-9141128e6d43"
      },
      "source": [
        "# calculating the training mean-squared-error\n",
        "train_loss = model.evaluate(X_train, y_train, batch_size = 1)\n",
        "\n",
        "# calculating the test mean-squared-error\n",
        "test_loss = model.evaluate(X_test, y_test, batch_size = 1)\n",
        "\n",
        "# printing the training and the test mean-squared-errors\n",
        "print('Train Loss =', round(train_loss,4))\n",
        "print('Test Loss =', round(test_loss,4))"
      ],
      "execution_count": null,
      "outputs": [
        {
          "output_type": "stream",
          "text": [
            "115/115 [==============================] - 2s 3ms/step - loss: 0.0223\n",
            "27/27 [==============================] - 0s 3ms/step - loss: 0.0311\n",
            "Train Loss = 0.0223\n",
            "Test Loss = 0.0311\n"
          ],
          "name": "stdout"
        }
      ]
    },
    {
      "cell_type": "code",
      "metadata": {
        "colab": {
          "base_uri": "https://localhost:8080/"
        },
        "id": "ub6jeXun8NOo",
        "outputId": "4e5cfdae-d4b6-4cbc-a871-5b05a9f8d49c"
      },
      "source": [
        "# calculating root mean squared error\n",
        "root_mean_square_error = np.sqrt(np.mean(np.power((y_test - predictions),2)))\n",
        "print('Root Mean Square Error =', round(root_mean_square_error,4))\n"
      ],
      "execution_count": null,
      "outputs": [
        {
          "output_type": "stream",
          "text": [
            "Root Mean Square Error = 120.7459\n"
          ],
          "name": "stdout"
        }
      ]
    },
    {
      "cell_type": "code",
      "metadata": {
        "colab": {
          "base_uri": "https://localhost:8080/"
        },
        "id": "nt8Fa8Lu8P7l",
        "outputId": "12c16a19-1626-4720-aaf1-2d54b94021c2"
      },
      "source": [
        "# calculating root mean squared error using sklearn.metrics package\n",
        "rmse = metrics.mean_squared_error(y_test, predictions)\n",
        "print('Root Mean Square Error (sklearn.metrics) =', round(np.sqrt(rmse),4))"
      ],
      "execution_count": null,
      "outputs": [
        {
          "output_type": "stream",
          "text": [
            "Root Mean Square Error (sklearn.metrics) = 120.7459\n"
          ],
          "name": "stdout"
        }
      ]
    },
    {
      "cell_type": "markdown",
      "metadata": {
        "id": "PuzKsh1Q8TJ6"
      },
      "source": [
        "## **Step 12 : Plotting the Predictions against unseen data**"
      ]
    },
    {
      "cell_type": "code",
      "metadata": {
        "id": "c730V4iq8RsB"
      },
      "source": [
        "# unscaling the test feature dataset, x_test\n",
        "X_test = scaler_x.inverse_transform(np.array(X_test).reshape((len(X_test), len(cols))))\n",
        "\n",
        "# unscaling the test y dataset, y_test\n",
        "y_train = scaler_y.inverse_transform(np.array(y_train).reshape((len(y_train), 1)))\n",
        "y_test = scaler_y.inverse_transform(np.array(y_test).reshape((len(y_test), 1)))"
      ],
      "execution_count": null,
      "outputs": []
    },
    {
      "cell_type": "code",
      "metadata": {
        "colab": {
          "base_uri": "https://localhost:8080/",
          "height": 625
        },
        "id": "53PrhyCd8Yqy",
        "outputId": "38867824-d0e4-47dc-d0c7-ac95293f8d14"
      },
      "source": [
        "# plotting\n",
        "plt.figure(figsize=(16,10))\n",
        "\n",
        "# plt.plot([row[0] for row in y_train], label=\"Training Close Price\")\n",
        "plt.plot(predictions, label=\"Predicted Close Price\")\n",
        "plt.plot([row[0] for row in y_test], label=\"Testing Close Price\")\n",
        "plt.legend(loc='upper center', bbox_to_anchor=(0.5, -0.05), fancybox=True, shadow=True, ncol=2)\n",
        "plt.show()"
      ],
      "execution_count": null,
      "outputs": [
        {
          "output_type": "display_data",
          "data": {
            "image/png": "[encoded data removed]",
            "text/plain": [
              "<Figure size 1152x720 with 1 Axes>"
            ]
          },
          "metadata": {
            "tags": [],
            "needs_background": "light"
          }
        }
      ]
    },
    {
      "cell_type": "markdown",
      "metadata": {
        "id": "zdihQr1z89Dj"
      },
      "source": [
        "# **THANK YOU**"
      ]
    }
  ]
}